{
 "cells": [
  {
   "cell_type": "code",
   "execution_count": 1,
   "metadata": {},
   "outputs": [],
   "source": [
    "import pandas as pd\n",
    "import numpy as np\n",
    "from sklearn.cluster import KMeans\n",
    "import matplotlib.pyplot as plt\n",
    "import seaborn as srn\n",
    "import statistics as sts\n",
    "import datetime\n"
   ]
  },
  {
   "cell_type": "code",
   "execution_count": 2,
   "metadata": {},
   "outputs": [],
   "source": [
    "df = pd.read_csv('pns-reduzido-2019.csv')"
   ]
  },
  {
   "cell_type": "code",
   "execution_count": 3,
   "metadata": {},
   "outputs": [],
   "source": [
    "# Substitua os valores nulos na coluna 'Diagnóstico de TOC (Transtorno obsessivo compulsivo)' por zero\n",
    "df['Diagnóstico de TOC (Transtorno obsessivo compulsivo) '].fillna(3, inplace=True)\n"
   ]
  },
  {
   "cell_type": "code",
   "execution_count": 4,
   "metadata": {},
   "outputs": [
    {
     "data": {
      "text/plain": [
       "Unnamed: 0                                                                                                                                                                                                                                                                0\n",
       "Unidade da Federação                                                                                                                                                                                                                                                      0\n",
       "Algum médico ou profissional de saúde (como psiquiatra ou psicólogo) já lhe deu o diagnóstico de outra doença mental, como transtorno de ansiedade, síndrome do pânico, esquizofrenia, transtorno bipolar, psicose ou TOC (Transtorno Obsessivo Compulsivo) etc?     288821\n",
       "Em geral, em que grau essa doença mental limita as suas atividades habituais (tais como trabalhar, realizar afazeres domésticos etc.)?                                                                                                                               202880\n",
       "Sexo                                                                                                                                                                                                                                                                  14344\n",
       "Cor ou raça                                                                                                                                                                                                                                                           14344\n",
       "Qual é o curso que frequenta                                                                                                                                                                                                                                         215465\n",
       "De um modo geral, como é o estado de saúde de________                                                                                                                                                                                                                 14344\n",
       " Qual foi o principal motivo de saúde que impediu ___ de realizar suas atividades habituais nas duas últimas semanas                                                                                                                                                 271774\n",
       "Com que frequência o(a) Sr(a) costuma consumir alguma bebida alcoólica?                                                                                                                                                                                              202880\n",
       "Ano de nascimento                                                                                                                                                                                                                                                     14344\n",
       "Faixa de rendimento domiciliar per capita (exclusive o rendimento das pessoas cuja condição na unidade domiciliar era pensionista, empregado doméstico ou parente do empregado doméstico)                                                                            287094\n",
       "Considerando saúde como um estado de bem-estar físico e mental, e não somente a ausência de doenças, como é o estado de saúde de _____________?                                                                                                                       14344\n",
       "Algum médico já lhe deu algum diagnóstico de outra doença crônica (física ou mental) ou doença de longa duração (de mais de 6 meses de duração)?                                                                                                                     202880\n",
       "Alguma dessas doenças limita de alguma forma suas atividades habituais (trabalhar, ir à escola, brincar, afazeres domésticos, etc.)                                                                                                                                  213903\n",
       "Quando ____ consultou um médico pela última vez                                                                                                                                                                                                                       14344\n",
       "O(A) Sr(a) visita o médico/serviço de saúde regularmente por causa dessa doença mental ou só quando tem algum problema?                                                                                                                                              288821\n",
       "Por causa da doença mental Faz acompanhamento regular com profissional de saúde                                                                                                                                                                                      288821\n",
       "Atualmente, o(a) Sr(a) fuma algum produto do tabaco?                                                                                                                                                                                                                 202880\n",
       "E no passado, o(a) Sr(a) fumou algum produto do tabaco diariamente?                                                                                                                                                                                                  292540\n",
       "Diagnóstico de TOC (Transtorno obsessivo compulsivo)                                                                                                                                                                                                                      0\n",
       "dtype: int64"
      ]
     },
     "execution_count": 4,
     "metadata": {},
     "output_type": "execute_result"
    }
   ],
   "source": [
    "df.isnull().sum()"
   ]
  },
  {
   "cell_type": "code",
   "execution_count": 5,
   "metadata": {},
   "outputs": [],
   "source": [
    "now = datetime.datetime.now()\n",
    "# Defina os limites de idade desejados\n",
    "limite_inferior = 7\n",
    "limite_superior = 130\n",
    "\n",
    "# Filtrar linhas com idade dentro do intervalo desejado\n",
    "df = df[(df['Ano de nascimento'] <= (now.year - limite_inferior)) & (df['Ano de nascimento'] >= (now.year - limite_superior))]\n",
    "\n",
    "# Agora, df contém apenas as linhas com idade dentro do intervalo especificado (7 a 130 anos)"
   ]
  },
  {
   "cell_type": "code",
   "execution_count": 6,
   "metadata": {},
   "outputs": [
    {
     "data": {
      "text/plain": [
       "Unnamed: 0                                                                                                                                                                                                                                                                0\n",
       "Unidade da Federação                                                                                                                                                                                                                                                      0\n",
       "Algum médico ou profissional de saúde (como psiquiatra ou psicólogo) já lhe deu o diagnóstico de outra doença mental, como transtorno de ansiedade, síndrome do pânico, esquizofrenia, transtorno bipolar, psicose ou TOC (Transtorno Obsessivo Compulsivo) etc?     249552\n",
       "Em geral, em que grau essa doença mental limita as suas atividades habituais (tais como trabalhar, realizar afazeres domésticos etc.)?                                                                                                                               167235\n",
       "Sexo                                                                                                                                                                                                                                                                      0\n",
       "Cor ou raça                                                                                                                                                                                                                                                               0\n",
       "Qual é o curso que frequenta                                                                                                                                                                                                                                         181767\n",
       "De um modo geral, como é o estado de saúde de________                                                                                                                                                                                                                     0\n",
       " Qual foi o principal motivo de saúde que impediu ___ de realizar suas atividades habituais nas duas últimas semanas                                                                                                                                                 233806\n",
       "Com que frequência o(a) Sr(a) costuma consumir alguma bebida alcoólica?                                                                                                                                                                                              167235\n",
       "Ano de nascimento                                                                                                                                                                                                                                                         0\n",
       "Faixa de rendimento domiciliar per capita (exclusive o rendimento das pessoas cuja condição na unidade domiciliar era pensionista, empregado doméstico ou parente do empregado doméstico)                                                                            254332\n",
       "Considerando saúde como um estado de bem-estar físico e mental, e não somente a ausência de doenças, como é o estado de saúde de _____________?                                                                                                                           0\n",
       "Algum médico já lhe deu algum diagnóstico de outra doença crônica (física ou mental) ou doença de longa duração (de mais de 6 meses de duração)?                                                                                                                     167235\n",
       "Alguma dessas doenças limita de alguma forma suas atividades habituais (trabalhar, ir à escola, brincar, afazeres domésticos, etc.)                                                                                                                                  177938\n",
       "Quando ____ consultou um médico pela última vez                                                                                                                                                                                                                           0\n",
       "O(A) Sr(a) visita o médico/serviço de saúde regularmente por causa dessa doença mental ou só quando tem algum problema?                                                                                                                                              249552\n",
       "Por causa da doença mental Faz acompanhamento regular com profissional de saúde                                                                                                                                                                                      249552\n",
       "Atualmente, o(a) Sr(a) fuma algum produto do tabaco?                                                                                                                                                                                                                 167235\n",
       "E no passado, o(a) Sr(a) fumou algum produto do tabaco diariamente?                                                                                                                                                                                                  253204\n",
       "Diagnóstico de TOC (Transtorno obsessivo compulsivo)                                                                                                                                                                                                                      0\n",
       "dtype: int64"
      ]
     },
     "execution_count": 6,
     "metadata": {},
     "output_type": "execute_result"
    }
   ],
   "source": [
    "df.isnull().sum()"
   ]
  },
  {
   "cell_type": "code",
   "execution_count": 7,
   "metadata": {},
   "outputs": [],
   "source": [
    "df = df.drop(columns=['Faixa de rendimento domiciliar per capita (exclusive o rendimento das pessoas cuja condição na unidade domiciliar era pensionista, empregado doméstico ou parente do empregado doméstico)'])\n",
    "df = df.drop(columns=['Qual é o curso que frequenta'])\n",
    "df = df.drop(columns=['E no passado, o(a) Sr(a) fumou algum produto do tabaco diariamente? '])\n",
    "df = df.drop(columns=['Alguma dessas doenças limita de alguma forma suas atividades habituais (trabalhar, ir à escola, brincar, afazeres domésticos, etc.)'])\n",
    "df = df.drop(columns=[' Qual foi o principal motivo de saúde que impediu ___ de realizar suas atividades habituais nas duas últimas semanas '])\n",
    "df = df.drop(columns=['Unnamed: 0'])"
   ]
  },
  {
   "cell_type": "code",
   "execution_count": 8,
   "metadata": {},
   "outputs": [],
   "source": [
    "df.fillna(0, inplace=True)"
   ]
  },
  {
   "cell_type": "code",
   "execution_count": 9,
   "metadata": {},
   "outputs": [
    {
     "data": {
      "text/plain": [
       "Unidade da Federação                                                                                                                                                                                                                                                 0\n",
       "Algum médico ou profissional de saúde (como psiquiatra ou psicólogo) já lhe deu o diagnóstico de outra doença mental, como transtorno de ansiedade, síndrome do pânico, esquizofrenia, transtorno bipolar, psicose ou TOC (Transtorno Obsessivo Compulsivo) etc?     0\n",
       "Em geral, em que grau essa doença mental limita as suas atividades habituais (tais como trabalhar, realizar afazeres domésticos etc.)?                                                                                                                               0\n",
       "Sexo                                                                                                                                                                                                                                                                 0\n",
       "Cor ou raça                                                                                                                                                                                                                                                          0\n",
       "De um modo geral, como é o estado de saúde de________                                                                                                                                                                                                                0\n",
       "Com que frequência o(a) Sr(a) costuma consumir alguma bebida alcoólica?                                                                                                                                                                                              0\n",
       "Ano de nascimento                                                                                                                                                                                                                                                    0\n",
       "Considerando saúde como um estado de bem-estar físico e mental, e não somente a ausência de doenças, como é o estado de saúde de _____________?                                                                                                                      0\n",
       "Algum médico já lhe deu algum diagnóstico de outra doença crônica (física ou mental) ou doença de longa duração (de mais de 6 meses de duração)?                                                                                                                     0\n",
       "Quando ____ consultou um médico pela última vez                                                                                                                                                                                                                      0\n",
       "O(A) Sr(a) visita o médico/serviço de saúde regularmente por causa dessa doença mental ou só quando tem algum problema?                                                                                                                                              0\n",
       "Por causa da doença mental Faz acompanhamento regular com profissional de saúde                                                                                                                                                                                      0\n",
       "Atualmente, o(a) Sr(a) fuma algum produto do tabaco?                                                                                                                                                                                                                 0\n",
       "Diagnóstico de TOC (Transtorno obsessivo compulsivo)                                                                                                                                                                                                                 0\n",
       "dtype: int64"
      ]
     },
     "execution_count": 9,
     "metadata": {},
     "output_type": "execute_result"
    }
   ],
   "source": [
    "df.isnull().sum()"
   ]
  },
  {
   "cell_type": "code",
   "execution_count": 10,
   "metadata": {},
   "outputs": [
    {
     "data": {
      "text/plain": [
       "Diagnóstico de TOC (Transtorno obsessivo compulsivo) \n",
       "1.0      3661\n",
       "2.0      1119\n",
       "3.0    249552\n",
       "dtype: int64"
      ]
     },
     "execution_count": 10,
     "metadata": {},
     "output_type": "execute_result"
    }
   ],
   "source": [
    "agrupado = df.groupby(['Diagnóstico de TOC (Transtorno obsessivo compulsivo) ']).size()\n",
    "agrupado"
   ]
  },
  {
   "cell_type": "code",
   "execution_count": 11,
   "metadata": {},
   "outputs": [],
   "source": [
    "X = df"
   ]
  },
  {
   "cell_type": "code",
   "execution_count": 12,
   "metadata": {},
   "outputs": [
    {
     "name": "stderr",
     "output_type": "stream",
     "text": [
      "c:\\Users\\Gabriel Vidigal\\anaconda3\\lib\\site-packages\\sklearn\\cluster\\_kmeans.py:870: FutureWarning: The default value of `n_init` will change from 10 to 'auto' in 1.4. Set the value of `n_init` explicitly to suppress the warning\n",
      "  warnings.warn(\n"
     ]
    },
    {
     "name": "stderr",
     "output_type": "stream",
     "text": [
      "c:\\Users\\Gabriel Vidigal\\anaconda3\\lib\\site-packages\\sklearn\\cluster\\_kmeans.py:870: FutureWarning: The default value of `n_init` will change from 10 to 'auto' in 1.4. Set the value of `n_init` explicitly to suppress the warning\n",
      "  warnings.warn(\n",
      "c:\\Users\\Gabriel Vidigal\\anaconda3\\lib\\site-packages\\sklearn\\cluster\\_kmeans.py:870: FutureWarning: The default value of `n_init` will change from 10 to 'auto' in 1.4. Set the value of `n_init` explicitly to suppress the warning\n",
      "  warnings.warn(\n",
      "c:\\Users\\Gabriel Vidigal\\anaconda3\\lib\\site-packages\\sklearn\\cluster\\_kmeans.py:870: FutureWarning: The default value of `n_init` will change from 10 to 'auto' in 1.4. Set the value of `n_init` explicitly to suppress the warning\n",
      "  warnings.warn(\n",
      "c:\\Users\\Gabriel Vidigal\\anaconda3\\lib\\site-packages\\sklearn\\cluster\\_kmeans.py:870: FutureWarning: The default value of `n_init` will change from 10 to 'auto' in 1.4. Set the value of `n_init` explicitly to suppress the warning\n",
      "  warnings.warn(\n",
      "c:\\Users\\Gabriel Vidigal\\anaconda3\\lib\\site-packages\\sklearn\\cluster\\_kmeans.py:870: FutureWarning: The default value of `n_init` will change from 10 to 'auto' in 1.4. Set the value of `n_init` explicitly to suppress the warning\n",
      "  warnings.warn(\n",
      "c:\\Users\\Gabriel Vidigal\\anaconda3\\lib\\site-packages\\sklearn\\cluster\\_kmeans.py:870: FutureWarning: The default value of `n_init` will change from 10 to 'auto' in 1.4. Set the value of `n_init` explicitly to suppress the warning\n",
      "  warnings.warn(\n",
      "c:\\Users\\Gabriel Vidigal\\anaconda3\\lib\\site-packages\\sklearn\\cluster\\_kmeans.py:870: FutureWarning: The default value of `n_init` will change from 10 to 'auto' in 1.4. Set the value of `n_init` explicitly to suppress the warning\n",
      "  warnings.warn(\n"
     ]
    },
    {
     "ename": "KeyboardInterrupt",
     "evalue": "",
     "output_type": "error",
     "traceback": [
      "\u001b[1;31m---------------------------------------------------------------------------\u001b[0m",
      "\u001b[1;31mKeyboardInterrupt\u001b[0m                         Traceback (most recent call last)",
      "File \u001b[1;32m<__array_function__ internals>:177\u001b[0m, in \u001b[0;36mwhere\u001b[1;34m(*args, **kwargs)\u001b[0m\n",
      "\u001b[1;31mKeyboardInterrupt\u001b[0m: "
     ]
    },
    {
     "name": "stderr",
     "output_type": "stream",
     "text": [
      "Exception ignored in: 'sklearn.cluster._k_means_common._relocate_empty_clusters_dense'\n",
      "Traceback (most recent call last):\n",
      "  File \"<__array_function__ internals>\", line 177, in where\n",
      "KeyboardInterrupt: \n"
     ]
    }
   ],
   "source": [
    "valores_k = []\n",
    "inercias = []\n",
    "\n",
    "for i in range(1, 10):\n",
    "    kmeans = KMeans(n_clusters=i, random_state=0).fit(X)\n",
    "    valores_k.append(i)\n",
    "    inercias.append(kmeans.inertia_)\n",
    "\n",
    "# Visualizar a relação entre inércia e K\n",
    "plt.plot(valores_k, inercias)\n",
    "plt.xlabel('Número de clusters (K)')\n",
    "plt.ylabel('Inércia')\n",
    "plt.title('Método do Cotovelo')\n",
    "plt.show()\n"
   ]
  },
  {
   "cell_type": "code",
   "execution_count": null,
   "metadata": {},
   "outputs": [],
   "source": [
    "kmeans = KMeans(n_clusters=2, random_state=42, n_init=10).fit(X)"
   ]
  },
  {
   "cell_type": "code",
   "execution_count": null,
   "metadata": {},
   "outputs": [],
   "source": [
    "labels = kmeans.labels_"
   ]
  },
  {
   "cell_type": "code",
   "execution_count": null,
   "metadata": {},
   "outputs": [
    {
     "name": "stdout",
     "output_type": "stream",
     "text": [
      "{0: 423, 1: 696, 2: 0, 3: 0, 4: 0, 5: 0, 6: 0, 7: 0, 8: 0, 9: 0}\n"
     ]
    }
   ],
   "source": [
    "# Suponha que você já ajustou o modelo K-Means e tem as previsões em 'labels'\n",
    "# e que seu DataFrame original seja 'df'\n",
    "\n",
    "toc_count = {}  # Dicionário para armazenar as contagens de diagnóstico de TOC\n",
    "\n",
    "for cluster_num in range(10):\n",
    "    # Filtra as amostras no cluster atual\n",
    "    cluster_samples = df[labels == cluster_num]\n",
    "    \n",
    "    # Conta quantos diagnósticos de TOC igual a 2.0 estão presentes no cluster\n",
    "    toc_count[cluster_num] = (cluster_samples['Diagnóstico de TOC (Transtorno obsessivo compulsivo) '] == 2.0).sum()\n",
    "\n",
    "# 'toc_count' agora contém o número de diagnósticos de TOC igual a 2.0 em cada cluster\n",
    "print(toc_count)"
   ]
  },
  {
   "cell_type": "code",
   "execution_count": null,
   "metadata": {},
   "outputs": [],
   "source": [
    "from sklearn.cluster import KMeans\n",
    "from sklearn.metrics import silhouette_score\n",
    "import matplotlib.pyplot as plt"
   ]
  },
  {
   "cell_type": "code",
   "execution_count": null,
   "metadata": {},
   "outputs": [
    {
     "name": "stderr",
     "output_type": "stream",
     "text": [
      "c:\\Users\\Gabriel Vidigal\\anaconda3\\lib\\site-packages\\sklearn\\cluster\\_kmeans.py:870: FutureWarning: The default value of `n_init` will change from 10 to 'auto' in 1.4. Set the value of `n_init` explicitly to suppress the warning\n",
      "  warnings.warn(\n"
     ]
    },
    {
     "ename": "KeyboardInterrupt",
     "evalue": "",
     "output_type": "error",
     "traceback": [
      "\u001b[1;31m---------------------------------------------------------------------------\u001b[0m",
      "\u001b[1;31mKeyboardInterrupt\u001b[0m                         Traceback (most recent call last)",
      "\u001b[1;32mc:\\Users\\Gabriel Vidigal\\Documents\\tcc-toc-arquivos\\tcc-toc-gabriel-Julia\\TCC-TOC-clusteringv2.ipynb Cell 17\u001b[0m line \u001b[0;36m9\n\u001b[0;32m      <a href='vscode-notebook-cell:/c%3A/Users/Gabriel%20Vidigal/Documents/tcc-toc-arquivos/tcc-toc-gabriel-Julia/TCC-TOC-clusteringv2.ipynb#X26sZmlsZQ%3D%3D?line=6'>7</a>\u001b[0m kmeans\u001b[39m.\u001b[39mfit(X)  \u001b[39m# Substitua X pelos seus dados\u001b[39;00m\n\u001b[0;32m      <a href='vscode-notebook-cell:/c%3A/Users/Gabriel%20Vidigal/Documents/tcc-toc-arquivos/tcc-toc-gabriel-Julia/TCC-TOC-clusteringv2.ipynb#X26sZmlsZQ%3D%3D?line=7'>8</a>\u001b[0m labels \u001b[39m=\u001b[39m kmeans\u001b[39m.\u001b[39mlabels_\n\u001b[1;32m----> <a href='vscode-notebook-cell:/c%3A/Users/Gabriel%20Vidigal/Documents/tcc-toc-arquivos/tcc-toc-gabriel-Julia/TCC-TOC-clusteringv2.ipynb#X26sZmlsZQ%3D%3D?line=8'>9</a>\u001b[0m silhouette_avg \u001b[39m=\u001b[39m silhouette_score(X, labels)\n\u001b[0;32m     <a href='vscode-notebook-cell:/c%3A/Users/Gabriel%20Vidigal/Documents/tcc-toc-arquivos/tcc-toc-gabriel-Julia/TCC-TOC-clusteringv2.ipynb#X26sZmlsZQ%3D%3D?line=9'>10</a>\u001b[0m silhouette_scores\u001b[39m.\u001b[39mappend(silhouette_avg)\n",
      "File \u001b[1;32mc:\\Users\\Gabriel Vidigal\\anaconda3\\lib\\site-packages\\sklearn\\metrics\\cluster\\_unsupervised.py:117\u001b[0m, in \u001b[0;36msilhouette_score\u001b[1;34m(X, labels, metric, sample_size, random_state, **kwds)\u001b[0m\n\u001b[0;32m    115\u001b[0m     \u001b[39melse\u001b[39;00m:\n\u001b[0;32m    116\u001b[0m         X, labels \u001b[39m=\u001b[39m X[indices], labels[indices]\n\u001b[1;32m--> 117\u001b[0m \u001b[39mreturn\u001b[39;00m np\u001b[39m.\u001b[39mmean(silhouette_samples(X, labels, metric\u001b[39m=\u001b[39mmetric, \u001b[39m*\u001b[39m\u001b[39m*\u001b[39mkwds))\n",
      "File \u001b[1;32mc:\\Users\\Gabriel Vidigal\\anaconda3\\lib\\site-packages\\sklearn\\metrics\\cluster\\_unsupervised.py:237\u001b[0m, in \u001b[0;36msilhouette_samples\u001b[1;34m(X, labels, metric, **kwds)\u001b[0m\n\u001b[0;32m    233\u001b[0m kwds[\u001b[39m\"\u001b[39m\u001b[39mmetric\u001b[39m\u001b[39m\"\u001b[39m] \u001b[39m=\u001b[39m metric\n\u001b[0;32m    234\u001b[0m reduce_func \u001b[39m=\u001b[39m functools\u001b[39m.\u001b[39mpartial(\n\u001b[0;32m    235\u001b[0m     _silhouette_reduce, labels\u001b[39m=\u001b[39mlabels, label_freqs\u001b[39m=\u001b[39mlabel_freqs\n\u001b[0;32m    236\u001b[0m )\n\u001b[1;32m--> 237\u001b[0m results \u001b[39m=\u001b[39m \u001b[39mzip\u001b[39;49m(\u001b[39m*\u001b[39;49mpairwise_distances_chunked(X, reduce_func\u001b[39m=\u001b[39;49mreduce_func, \u001b[39m*\u001b[39;49m\u001b[39m*\u001b[39;49mkwds))\n\u001b[0;32m    238\u001b[0m intra_clust_dists, inter_clust_dists \u001b[39m=\u001b[39m results\n\u001b[0;32m    239\u001b[0m intra_clust_dists \u001b[39m=\u001b[39m np\u001b[39m.\u001b[39mconcatenate(intra_clust_dists)\n",
      "File \u001b[1;32mc:\\Users\\Gabriel Vidigal\\anaconda3\\lib\\site-packages\\sklearn\\metrics\\pairwise.py:1876\u001b[0m, in \u001b[0;36mpairwise_distances_chunked\u001b[1;34m(X, Y, reduce_func, metric, n_jobs, working_memory, **kwds)\u001b[0m\n\u001b[0;32m   1874\u001b[0m \u001b[39mif\u001b[39;00m reduce_func \u001b[39mis\u001b[39;00m \u001b[39mnot\u001b[39;00m \u001b[39mNone\u001b[39;00m:\n\u001b[0;32m   1875\u001b[0m     chunk_size \u001b[39m=\u001b[39m D_chunk\u001b[39m.\u001b[39mshape[\u001b[39m0\u001b[39m]\n\u001b[1;32m-> 1876\u001b[0m     D_chunk \u001b[39m=\u001b[39m reduce_func(D_chunk, sl\u001b[39m.\u001b[39;49mstart)\n\u001b[0;32m   1877\u001b[0m     _check_chunk_size(D_chunk, chunk_size)\n\u001b[0;32m   1878\u001b[0m \u001b[39myield\u001b[39;00m D_chunk\n",
      "File \u001b[1;32mc:\\Users\\Gabriel Vidigal\\anaconda3\\lib\\site-packages\\sklearn\\metrics\\cluster\\_unsupervised.py:137\u001b[0m, in \u001b[0;36m_silhouette_reduce\u001b[1;34m(D_chunk, start, labels, label_freqs)\u001b[0m\n\u001b[0;32m    135\u001b[0m clust_dists \u001b[39m=\u001b[39m np\u001b[39m.\u001b[39mzeros((\u001b[39mlen\u001b[39m(D_chunk), \u001b[39mlen\u001b[39m(label_freqs)), dtype\u001b[39m=\u001b[39mD_chunk\u001b[39m.\u001b[39mdtype)\n\u001b[0;32m    136\u001b[0m \u001b[39mfor\u001b[39;00m i \u001b[39min\u001b[39;00m \u001b[39mrange\u001b[39m(\u001b[39mlen\u001b[39m(D_chunk)):\n\u001b[1;32m--> 137\u001b[0m     clust_dists[i] \u001b[39m+\u001b[39m\u001b[39m=\u001b[39m np\u001b[39m.\u001b[39;49mbincount(\n\u001b[0;32m    138\u001b[0m         labels, weights\u001b[39m=\u001b[39;49mD_chunk[i], minlength\u001b[39m=\u001b[39;49m\u001b[39mlen\u001b[39;49m(label_freqs)\n\u001b[0;32m    139\u001b[0m     )\n\u001b[0;32m    141\u001b[0m \u001b[39m# intra_index selects intra-cluster distances within clust_dists\u001b[39;00m\n\u001b[0;32m    142\u001b[0m intra_index \u001b[39m=\u001b[39m (np\u001b[39m.\u001b[39marange(\u001b[39mlen\u001b[39m(D_chunk)), labels[start : start \u001b[39m+\u001b[39m \u001b[39mlen\u001b[39m(D_chunk)])\n",
      "File \u001b[1;32m<__array_function__ internals>:180\u001b[0m, in \u001b[0;36mbincount\u001b[1;34m(*args, **kwargs)\u001b[0m\n",
      "\u001b[1;31mKeyboardInterrupt\u001b[0m: "
     ]
    }
   ],
   "source": [
    "k_values = range(2, 11)  # Defina a faixa de valores de k que deseja testar\n",
    "\n",
    "silhouette_scores = []\n",
    "\n",
    "for k in k_values:\n",
    "    kmeans = KMeans(n_clusters=k, random_state=42)\n",
    "    kmeans.fit(X)  # Substitua X pelos seus dados\n",
    "    labels = kmeans.labels_\n",
    "    silhouette_avg = silhouette_score(X, labels)\n",
    "    silhouette_scores.append(silhouette_avg)"
   ]
  }
 ],
 "metadata": {
  "kernelspec": {
   "display_name": "Python 3",
   "language": "python",
   "name": "python3"
  },
  "language_info": {
   "codemirror_mode": {
    "name": "ipython",
    "version": 3
   },
   "file_extension": ".py",
   "mimetype": "text/x-python",
   "name": "python",
   "nbconvert_exporter": "python",
   "pygments_lexer": "ipython3",
   "version": "3.10.9"
  }
 },
 "nbformat": 4,
 "nbformat_minor": 2
}
