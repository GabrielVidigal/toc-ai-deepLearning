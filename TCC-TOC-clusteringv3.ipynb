{
 "cells": [
  {
   "cell_type": "code",
   "execution_count": 2,
   "metadata": {},
   "outputs": [],
   "source": [
    "import pandas as pd\n",
    "import numpy as np\n",
    "from sklearn.cluster import KMeans\n",
    "import matplotlib.pyplot as plt\n",
    "import seaborn as srn\n",
    "import statistics as sts\n",
    "import datetime\n"
   ]
  },
  {
   "cell_type": "code",
   "execution_count": 3,
   "metadata": {},
   "outputs": [],
   "source": [
    "df = pd.read_csv('pns-reduzido-2019.csv')"
   ]
  },
  {
   "cell_type": "code",
   "execution_count": 4,
   "metadata": {},
   "outputs": [],
   "source": [
    "# Substitua os valores nulos na coluna 'Diagnóstico de TOC (Transtorno obsessivo compulsivo)' por zero\n",
    "df['Diagnóstico de TOC (Transtorno obsessivo compulsivo) '].fillna(3, inplace=True)\n"
   ]
  },
  {
   "cell_type": "code",
   "execution_count": 5,
   "metadata": {},
   "outputs": [
    {
     "data": {
      "text/plain": [
       "Unnamed: 0                                                                                                                                                                                                                                                                0\n",
       "Unidade da Federação                                                                                                                                                                                                                                                      0\n",
       "Algum médico ou profissional de saúde (como psiquiatra ou psicólogo) já lhe deu o diagnóstico de outra doença mental, como transtorno de ansiedade, síndrome do pânico, esquizofrenia, transtorno bipolar, psicose ou TOC (Transtorno Obsessivo Compulsivo) etc?     288821\n",
       "Em geral, em que grau essa doença mental limita as suas atividades habituais (tais como trabalhar, realizar afazeres domésticos etc.)?                                                                                                                               202880\n",
       "Sexo                                                                                                                                                                                                                                                                  14344\n",
       "Cor ou raça                                                                                                                                                                                                                                                           14344\n",
       "Qual é o curso que frequenta                                                                                                                                                                                                                                         215465\n",
       "De um modo geral, como é o estado de saúde de________                                                                                                                                                                                                                 14344\n",
       " Qual foi o principal motivo de saúde que impediu ___ de realizar suas atividades habituais nas duas últimas semanas                                                                                                                                                 271774\n",
       "Com que frequência o(a) Sr(a) costuma consumir alguma bebida alcoólica?                                                                                                                                                                                              202880\n",
       "Ano de nascimento                                                                                                                                                                                                                                                     14344\n",
       "Faixa de rendimento domiciliar per capita (exclusive o rendimento das pessoas cuja condição na unidade domiciliar era pensionista, empregado doméstico ou parente do empregado doméstico)                                                                            287094\n",
       "Considerando saúde como um estado de bem-estar físico e mental, e não somente a ausência de doenças, como é o estado de saúde de _____________?                                                                                                                       14344\n",
       "Algum médico já lhe deu algum diagnóstico de outra doença crônica (física ou mental) ou doença de longa duração (de mais de 6 meses de duração)?                                                                                                                     202880\n",
       "Alguma dessas doenças limita de alguma forma suas atividades habituais (trabalhar, ir à escola, brincar, afazeres domésticos, etc.)                                                                                                                                  213903\n",
       "Quando ____ consultou um médico pela última vez                                                                                                                                                                                                                       14344\n",
       "O(A) Sr(a) visita o médico/serviço de saúde regularmente por causa dessa doença mental ou só quando tem algum problema?                                                                                                                                              288821\n",
       "Por causa da doença mental Faz acompanhamento regular com profissional de saúde                                                                                                                                                                                      288821\n",
       "Atualmente, o(a) Sr(a) fuma algum produto do tabaco?                                                                                                                                                                                                                 202880\n",
       "E no passado, o(a) Sr(a) fumou algum produto do tabaco diariamente?                                                                                                                                                                                                  292540\n",
       "Diagnóstico de TOC (Transtorno obsessivo compulsivo)                                                                                                                                                                                                                      0\n",
       "dtype: int64"
      ]
     },
     "execution_count": 5,
     "metadata": {},
     "output_type": "execute_result"
    }
   ],
   "source": [
    "df.isnull().sum()"
   ]
  },
  {
   "cell_type": "code",
   "execution_count": 6,
   "metadata": {},
   "outputs": [],
   "source": [
    "# Filtra as amostras com diagnóstico igual a 1 e salva em um arquivo separado\n",
    "df_diagnostico_3 = df[df['Diagnóstico de TOC (Transtorno obsessivo compulsivo) '] == 3]\n",
    "df_diagnostico_3.to_csv('amostras_diagnostico_3.csv', index=False)\n"
   ]
  },
  {
   "cell_type": "code",
   "execution_count": 7,
   "metadata": {},
   "outputs": [
    {
     "data": {
      "text/plain": [
       "Diagnóstico de TOC (Transtorno obsessivo compulsivo) \n",
       "3.0    288821\n",
       "dtype: int64"
      ]
     },
     "execution_count": 7,
     "metadata": {},
     "output_type": "execute_result"
    }
   ],
   "source": [
    "agrupado = df_diagnostico_3.groupby(['Diagnóstico de TOC (Transtorno obsessivo compulsivo) ']).size()\n",
    "agrupado"
   ]
  },
  {
   "cell_type": "code",
   "execution_count": 8,
   "metadata": {},
   "outputs": [
    {
     "data": {
      "text/plain": [
       "Unnamed: 0                                                                                                                                                                                                                                                                0\n",
       "Unidade da Federação                                                                                                                                                                                                                                                      0\n",
       "Algum médico ou profissional de saúde (como psiquiatra ou psicólogo) já lhe deu o diagnóstico de outra doença mental, como transtorno de ansiedade, síndrome do pânico, esquizofrenia, transtorno bipolar, psicose ou TOC (Transtorno Obsessivo Compulsivo) etc?     288821\n",
       "Em geral, em que grau essa doença mental limita as suas atividades habituais (tais como trabalhar, realizar afazeres domésticos etc.)?                                                                                                                               202880\n",
       "Sexo                                                                                                                                                                                                                                                                  14344\n",
       "Cor ou raça                                                                                                                                                                                                                                                           14344\n",
       "Qual é o curso que frequenta                                                                                                                                                                                                                                         211144\n",
       "De um modo geral, como é o estado de saúde de________                                                                                                                                                                                                                 14344\n",
       " Qual foi o principal motivo de saúde que impediu ___ de realizar suas atividades habituais nas duas últimas semanas                                                                                                                                                 267959\n",
       "Com que frequência o(a) Sr(a) costuma consumir alguma bebida alcoólica?                                                                                                                                                                                              202880\n",
       "Ano de nascimento                                                                                                                                                                                                                                                     14344\n",
       "Faixa de rendimento domiciliar per capita (exclusive o rendimento das pessoas cuja condição na unidade domiciliar era pensionista, empregado doméstico ou parente do empregado doméstico)                                                                            282189\n",
       "Considerando saúde como um estado de bem-estar físico e mental, e não somente a ausência de doenças, como é o estado de saúde de _____________?                                                                                                                       14344\n",
       "Algum médico já lhe deu algum diagnóstico de outra doença crônica (física ou mental) ou doença de longa duração (de mais de 6 meses de duração)?                                                                                                                     202880\n",
       "Alguma dessas doenças limita de alguma forma suas atividades habituais (trabalhar, ir à escola, brincar, afazeres domésticos, etc.)                                                                                                                                  213179\n",
       "Quando ____ consultou um médico pela última vez                                                                                                                                                                                                                       14344\n",
       "O(A) Sr(a) visita o médico/serviço de saúde regularmente por causa dessa doença mental ou só quando tem algum problema?                                                                                                                                              288821\n",
       "Por causa da doença mental Faz acompanhamento regular com profissional de saúde                                                                                                                                                                                      288821\n",
       "Atualmente, o(a) Sr(a) fuma algum produto do tabaco?                                                                                                                                                                                                                 202880\n",
       "E no passado, o(a) Sr(a) fumou algum produto do tabaco diariamente?                                                                                                                                                                                                  287722\n",
       "Diagnóstico de TOC (Transtorno obsessivo compulsivo)                                                                                                                                                                                                                      0\n",
       "dtype: int64"
      ]
     },
     "execution_count": 8,
     "metadata": {},
     "output_type": "execute_result"
    }
   ],
   "source": [
    "df_diagnostico_3.isnull().sum()"
   ]
  },
  {
   "cell_type": "code",
   "execution_count": 9,
   "metadata": {},
   "outputs": [],
   "source": [
    "now = datetime.datetime.now()\n",
    "# Defina os limites de idade desejados\n",
    "limite_inferior = 7\n",
    "limite_superior = 130\n",
    "\n",
    "# Filtrar linhas com idade dentro do intervalo desejado\n",
    "df_diagnostico_3 = df_diagnostico_3[(df_diagnostico_3['Ano de nascimento'] <= (now.year - limite_inferior)) & (df_diagnostico_3['Ano de nascimento'] >= (now.year - limite_superior))]\n",
    "\n",
    "# Agora, df contém apenas as linhas com idade dentro do intervalo especificado (7 a 130 anos)\n"
   ]
  },
  {
   "cell_type": "code",
   "execution_count": 10,
   "metadata": {},
   "outputs": [],
   "source": [
    "df_diagnostico_3 = df_diagnostico_3.drop(columns=['Faixa de rendimento domiciliar per capita (exclusive o rendimento das pessoas cuja condição na unidade domiciliar era pensionista, empregado doméstico ou parente do empregado doméstico)'])\n",
    "df_diagnostico_3 = df_diagnostico_3.drop(columns=['Qual é o curso que frequenta'])\n",
    "df_diagnostico_3 = df_diagnostico_3.drop(columns=['E no passado, o(a) Sr(a) fumou algum produto do tabaco diariamente? '])\n",
    "df_diagnostico_3 = df_diagnostico_3.drop(columns=['Alguma dessas doenças limita de alguma forma suas atividades habituais (trabalhar, ir à escola, brincar, afazeres domésticos, etc.)'])\n",
    "df_diagnostico_3 = df_diagnostico_3.drop(columns=[' Qual foi o principal motivo de saúde que impediu ___ de realizar suas atividades habituais nas duas últimas semanas '])\n",
    "df_diagnostico_3 = df_diagnostico_3.drop(columns=['Unnamed: 0'])"
   ]
  },
  {
   "cell_type": "code",
   "execution_count": 11,
   "metadata": {},
   "outputs": [],
   "source": [
    "df_diagnostico_3.fillna(0, inplace=True)"
   ]
  },
  {
   "cell_type": "code",
   "execution_count": 12,
   "metadata": {},
   "outputs": [
    {
     "data": {
      "text/plain": [
       "Unidade da Federação                                                                                                                                                                                                                                                 0\n",
       "Algum médico ou profissional de saúde (como psiquiatra ou psicólogo) já lhe deu o diagnóstico de outra doença mental, como transtorno de ansiedade, síndrome do pânico, esquizofrenia, transtorno bipolar, psicose ou TOC (Transtorno Obsessivo Compulsivo) etc?     0\n",
       "Em geral, em que grau essa doença mental limita as suas atividades habituais (tais como trabalhar, realizar afazeres domésticos etc.)?                                                                                                                               0\n",
       "Sexo                                                                                                                                                                                                                                                                 0\n",
       "Cor ou raça                                                                                                                                                                                                                                                          0\n",
       "De um modo geral, como é o estado de saúde de________                                                                                                                                                                                                                0\n",
       "Com que frequência o(a) Sr(a) costuma consumir alguma bebida alcoólica?                                                                                                                                                                                              0\n",
       "Ano de nascimento                                                                                                                                                                                                                                                    0\n",
       "Considerando saúde como um estado de bem-estar físico e mental, e não somente a ausência de doenças, como é o estado de saúde de _____________?                                                                                                                      0\n",
       "Algum médico já lhe deu algum diagnóstico de outra doença crônica (física ou mental) ou doença de longa duração (de mais de 6 meses de duração)?                                                                                                                     0\n",
       "Quando ____ consultou um médico pela última vez                                                                                                                                                                                                                      0\n",
       "O(A) Sr(a) visita o médico/serviço de saúde regularmente por causa dessa doença mental ou só quando tem algum problema?                                                                                                                                              0\n",
       "Por causa da doença mental Faz acompanhamento regular com profissional de saúde                                                                                                                                                                                      0\n",
       "Atualmente, o(a) Sr(a) fuma algum produto do tabaco?                                                                                                                                                                                                                 0\n",
       "Diagnóstico de TOC (Transtorno obsessivo compulsivo)                                                                                                                                                                                                                 0\n",
       "dtype: int64"
      ]
     },
     "execution_count": 12,
     "metadata": {},
     "output_type": "execute_result"
    }
   ],
   "source": [
    "df_diagnostico_3.isnull().sum()"
   ]
  },
  {
   "cell_type": "code",
   "execution_count": 13,
   "metadata": {},
   "outputs": [
    {
     "data": {
      "text/plain": [
       "Diagnóstico de TOC (Transtorno obsessivo compulsivo) \n",
       "3.0    249552\n",
       "dtype: int64"
      ]
     },
     "execution_count": 13,
     "metadata": {},
     "output_type": "execute_result"
    }
   ],
   "source": [
    "agrupado = df_diagnostico_3.groupby(['Diagnóstico de TOC (Transtorno obsessivo compulsivo) ']).size()\n",
    "agrupado"
   ]
  },
  {
   "cell_type": "code",
   "execution_count": 16,
   "metadata": {},
   "outputs": [],
   "source": [
    "X = df_diagnostico_3"
   ]
  },
  {
   "cell_type": "code",
   "execution_count": 103,
   "metadata": {},
   "outputs": [
    {
     "name": "stdout",
     "output_type": "stream",
     "text": [
      "Método Elbow concluído!\n"
     ]
    }
   ],
   "source": [
    "# Número ótimo de clusters pela técnica do cotovelo (Elbow)\n",
    "\n",
    "from scipy.spatial.distance import cdist\n",
    "\n",
    "distortions = []\n",
    "inertias = []\n",
    "mapping1 = {}\n",
    "mapping2 = {}\n",
    "K = range(1, 10)\n",
    " \n",
    "for k in K:\n",
    "    kmeanModel = KMeans(n_init=\"auto\", n_clusters=k, random_state=1).fit(X)\n",
    "    kmeanModel.fit(X)\n",
    "    distortions.append(sum(np.min(cdist(X, kmeanModel.cluster_centers_, 'euclidean'), axis=1)) / X.shape[0])\n",
    "    inertias.append(kmeanModel.inertia_)\n",
    "    mapping1[k] = sum(np.min(cdist(X, kmeanModel.cluster_centers_, 'euclidean'), axis=1)) / X.shape[0]\n",
    "    mapping2[k] = kmeanModel.inertia_\n",
    "print(\"Método Elbow concluído!\")"
   ]
  },
  {
   "cell_type": "code",
   "execution_count": 104,
   "metadata": {},
   "outputs": [
    {
     "data": {
      "image/png": "[encoded data removed]",
      "text/plain": [
       "<Figure size 1000x400 with 2 Axes>"
      ]
     },
     "metadata": {},
     "output_type": "display_data"
    }
   ],
   "source": [
    "fig, axes = plt.subplots(nrows=1, ncols=2, figsize=(10, 4))\n",
    "\n",
    "# for key, val in mapping1.items():\n",
    "#     print(f'{key} : {val}')\n",
    "\n",
    "plt.subplot(1, 2, 1)\n",
    "plt.plot(K, distortions, 'bx-')\n",
    "plt.xlabel('Valores de K')\n",
    "plt.ylabel('Distorcao')\n",
    "plt.title('Método Elbow - Distorção')\n",
    "\n",
    "# for key, val in mapping2.items():\n",
    "#     print(f'{key} : {val}')\n",
    "\n",
    "plt.subplot(1, 2, 2)\n",
    "plt.plot(K, inertias, 'bx-')\n",
    "plt.xlabel('Valores de K')\n",
    "plt.ylabel('Inercia')\n",
    "plt.title('Método Elbow - Inercia')\n",
    "\n",
    "fig.tight_layout()\n",
    "plt.show()"
   ]
  },
  {
   "cell_type": "code",
   "execution_count": 106,
   "metadata": {},
   "outputs": [
    {
     "name": "stdout",
     "output_type": "stream",
     "text": [
      "For n_clusters=2, The Silhouette Coefficient is 0.4463836860473843\n",
      "For n_clusters=3, The Silhouette Coefficient is 0.34459613680927764\n",
      "For n_clusters=4, The Silhouette Coefficient is 0.36556835033982554\n",
      "For n_clusters=5, The Silhouette Coefficient is 0.3572207274721783\n",
      "For n_clusters=6, The Silhouette Coefficient is 0.3269303450510239\n",
      "For n_clusters=7, The Silhouette Coefficient is 0.3044242972614497\n",
      "For n_clusters=8, The Silhouette Coefficient is 0.33016554148856786\n",
      "For n_clusters=9, The Silhouette Coefficient is 0.31854665437354646\n",
      "For n_clusters=10, The Silhouette Coefficient is 0.3206503463046146\n",
      "K = 2, Coeficiente = 0.4463836860473843\n"
     ]
    }
   ],
   "source": [
    "# Número ótimo de clusters pela técnica de Silhoutte Index\n",
    "#demora muito --- comentar esse código\n",
    "\n",
    "from sklearn.cluster import KMeans\n",
    "from sklearn.metrics import silhouette_score\n",
    "\n",
    "bestK = []\n",
    "for n_cluster in range(2, 11):\n",
    "    kmeans = KMeans(n_init=\"auto\", n_clusters=n_cluster, random_state=1).fit(X)\n",
    "    labels = kmeans.labels_\n",
    "    sil_coeff = silhouette_score(X, labels, metric='euclidean')\n",
    "    bestK.append(sil_coeff)\n",
    "    print(\"For n_clusters={}, The Silhouette Coefficient is {}\".format(n_cluster, sil_coeff))\n",
    "print('K = {}, Coeficiente = {}'.format(bestK.index(max(bestK))+2, max(bestK)))"
   ]
  },
  {
   "cell_type": "code",
   "execution_count": 14,
   "metadata": {},
   "outputs": [
    {
     "ename": "NameError",
     "evalue": "name 'bestK' is not defined",
     "output_type": "error",
     "traceback": [
      "\u001b[1;31m---------------------------------------------------------------------------\u001b[0m",
      "\u001b[1;31mNameError\u001b[0m                                 Traceback (most recent call last)",
      "\u001b[1;32mc:\\Users\\Gabriel Vidigal\\Documents\\tcc-toc-arquivos\\tcc-toc-gabriel-Julia\\TCC-TOC-clusteringv3.ipynb Cell 16\u001b[0m line \u001b[0;36m1\n\u001b[1;32m----> <a href='vscode-notebook-cell:/c%3A/Users/Gabriel%20Vidigal/Documents/tcc-toc-arquivos/tcc-toc-gabriel-Julia/TCC-TOC-clusteringv3.ipynb#X21sZmlsZQ%3D%3D?line=0'>1</a>\u001b[0m k \u001b[39m=\u001b[39m bestK\u001b[39m.\u001b[39mindex(\u001b[39mmax\u001b[39m(bestK))\u001b[39m+\u001b[39m\u001b[39m2\u001b[39m\n\u001b[0;32m      <a href='vscode-notebook-cell:/c%3A/Users/Gabriel%20Vidigal/Documents/tcc-toc-arquivos/tcc-toc-gabriel-Julia/TCC-TOC-clusteringv3.ipynb#X21sZmlsZQ%3D%3D?line=1'>2</a>\u001b[0m coef \u001b[39m=\u001b[39m \u001b[39mmax\u001b[39m(bestK)\n\u001b[0;32m      <a href='vscode-notebook-cell:/c%3A/Users/Gabriel%20Vidigal/Documents/tcc-toc-arquivos/tcc-toc-gabriel-Julia/TCC-TOC-clusteringv3.ipynb#X21sZmlsZQ%3D%3D?line=2'>3</a>\u001b[0m \u001b[39mprint\u001b[39m(\u001b[39m\"\u001b[39m\u001b[39m#Clusters K:\u001b[39m\u001b[39m\"\u001b[39m, k, \u001b[39m\"\u001b[39m\u001b[39m\\n\u001b[39;00m\u001b[39mCoeficiente:\u001b[39m\u001b[39m\"\u001b[39m, coef)\n",
      "\u001b[1;31mNameError\u001b[0m: name 'bestK' is not defined"
     ]
    }
   ],
   "source": [
    "k = bestK.index(max(bestK))+2\n",
    "coef = max(bestK)\n",
    "print(\"#Clusters K:\", k, \"\\nCoeficiente:\", coef)"
   ]
  },
  {
   "cell_type": "code",
   "execution_count": 17,
   "metadata": {},
   "outputs": [],
   "source": [
    "kmeans = KMeans(n_clusters=2, random_state=42, n_init=10).fit(X)"
   ]
  },
  {
   "cell_type": "code",
   "execution_count": 18,
   "metadata": {},
   "outputs": [],
   "source": [
    "labels = kmeans.labels_"
   ]
  },
  {
   "cell_type": "code",
   "execution_count": 20,
   "metadata": {},
   "outputs": [
    {
     "name": "stdout",
     "output_type": "stream",
     "text": [
      "{0: 137504, 1: 112048, 2: 0, 3: 0, 4: 0, 5: 0, 6: 0, 7: 0, 8: 0, 9: 0}\n"
     ]
    }
   ],
   "source": [
    "toc_count = {}  # Dicionário para armazenar as contagens de diagnóstico de TOC\n",
    "\n",
    "for cluster_num in range(10):\n",
    "    # Filtra as amostras no cluster atual\n",
    "    cluster_samples = df_diagnostico_3[labels == cluster_num]\n",
    "    \n",
    "    # Conta quantos diagnósticos de TOC igual a 2.0 estão presentes no cluster\n",
    "    toc_count[cluster_num] = (cluster_samples['Diagnóstico de TOC (Transtorno obsessivo compulsivo) '] == 3.0).sum()\n",
    "\n",
    "# 'toc_count' agora contém o número de diagnósticos de TOC igual a 2.0 em cada cluster\n",
    "print(toc_count)"
   ]
  }
 ],
 "metadata": {
  "kernelspec": {
   "display_name": "Python 3",
   "language": "python",
   "name": "python3"
  },
  "language_info": {
   "codemirror_mode": {
    "name": "ipython",
    "version": 3
   },
   "file_extension": ".py",
   "mimetype": "text/x-python",
   "name": "python",
   "nbconvert_exporter": "python",
   "pygments_lexer": "ipython3",
   "version": "3.10.9"
  }
 },
 "nbformat": 4,
 "nbformat_minor": 2
}
