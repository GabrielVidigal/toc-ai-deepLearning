{
 "cells": [
  {
   "cell_type": "code",
   "execution_count": 1,
   "metadata": {},
   "outputs": [],
   "source": [
    "import pandas as pd\n",
    "import numpy as np\n",
    "from sklearn.cluster import KMeans\n",
    "import matplotlib.pyplot as plt\n",
    "import seaborn as srn\n",
    "import statistics as sts\n",
    "import datetime\n"
   ]
  },
  {
   "cell_type": "code",
   "execution_count": 2,
   "metadata": {},
   "outputs": [],
   "source": [
    "df = pd.read_csv('pns-reduzido-2019.csv')"
   ]
  },
  {
   "cell_type": "code",
   "execution_count": 3,
   "metadata": {},
   "outputs": [],
   "source": [
    "# Substitua os valores nulos na coluna 'Diagnóstico de TOC (Transtorno obsessivo compulsivo)' por zero\n",
    "df['Diagnóstico de TOC (Transtorno obsessivo compulsivo) '].fillna(3, inplace=True)\n"
   ]
  },
  {
   "cell_type": "code",
   "execution_count": 4,
   "metadata": {},
   "outputs": [
    {
     "data": {
      "text/plain": [
       "Unnamed: 0                                                                                                                                                                                                                                                                0\n",
       "Unidade da Federação                                                                                                                                                                                                                                                      0\n",
       "Algum médico ou profissional de saúde (como psiquiatra ou psicólogo) já lhe deu o diagnóstico de outra doença mental, como transtorno de ansiedade, síndrome do pânico, esquizofrenia, transtorno bipolar, psicose ou TOC (Transtorno Obsessivo Compulsivo) etc?     288821\n",
       "Em geral, em que grau essa doença mental limita as suas atividades habituais (tais como trabalhar, realizar afazeres domésticos etc.)?                                                                                                                               202880\n",
       "Sexo                                                                                                                                                                                                                                                                  14344\n",
       "Cor ou raça                                                                                                                                                                                                                                                           14344\n",
       "Qual é o curso que frequenta                                                                                                                                                                                                                                         215465\n",
       "De um modo geral, como é o estado de saúde de________                                                                                                                                                                                                                 14344\n",
       " Qual foi o principal motivo de saúde que impediu ___ de realizar suas atividades habituais nas duas últimas semanas                                                                                                                                                 271774\n",
       "Com que frequência o(a) Sr(a) costuma consumir alguma bebida alcoólica?                                                                                                                                                                                              202880\n",
       "Ano de nascimento                                                                                                                                                                                                                                                     14344\n",
       "Faixa de rendimento domiciliar per capita (exclusive o rendimento das pessoas cuja condição na unidade domiciliar era pensionista, empregado doméstico ou parente do empregado doméstico)                                                                            287094\n",
       "Considerando saúde como um estado de bem-estar físico e mental, e não somente a ausência de doenças, como é o estado de saúde de _____________?                                                                                                                       14344\n",
       "Algum médico já lhe deu algum diagnóstico de outra doença crônica (física ou mental) ou doença de longa duração (de mais de 6 meses de duração)?                                                                                                                     202880\n",
       "Alguma dessas doenças limita de alguma forma suas atividades habituais (trabalhar, ir à escola, brincar, afazeres domésticos, etc.)                                                                                                                                  213903\n",
       "Quando ____ consultou um médico pela última vez                                                                                                                                                                                                                       14344\n",
       "O(A) Sr(a) visita o médico/serviço de saúde regularmente por causa dessa doença mental ou só quando tem algum problema?                                                                                                                                              288821\n",
       "Por causa da doença mental Faz acompanhamento regular com profissional de saúde                                                                                                                                                                                      288821\n",
       "Atualmente, o(a) Sr(a) fuma algum produto do tabaco?                                                                                                                                                                                                                 202880\n",
       "E no passado, o(a) Sr(a) fumou algum produto do tabaco diariamente?                                                                                                                                                                                                  292540\n",
       "Diagnóstico de TOC (Transtorno obsessivo compulsivo)                                                                                                                                                                                                                      0\n",
       "dtype: int64"
      ]
     },
     "execution_count": 4,
     "metadata": {},
     "output_type": "execute_result"
    }
   ],
   "source": [
    "df.isnull().sum()"
   ]
  },
  {
   "cell_type": "code",
   "execution_count": 5,
   "metadata": {},
   "outputs": [],
   "source": [
    "# Filtra as amostras com diagnóstico igual a 1 e salva em um arquivo separado\n",
    "df_diagnostico_3 = df[df['Diagnóstico de TOC (Transtorno obsessivo compulsivo) '] == 3]\n",
    "df_diagnostico_3.to_csv('amostras_diagnostico_3.csv', index=False)\n"
   ]
  },
  {
   "cell_type": "code",
   "execution_count": 6,
   "metadata": {},
   "outputs": [
    {
     "data": {
      "text/plain": [
       "Diagnóstico de TOC (Transtorno obsessivo compulsivo) \n",
       "3.0    288821\n",
       "dtype: int64"
      ]
     },
     "execution_count": 6,
     "metadata": {},
     "output_type": "execute_result"
    }
   ],
   "source": [
    "agrupado = df_diagnostico_3.groupby(['Diagnóstico de TOC (Transtorno obsessivo compulsivo) ']).size()\n",
    "agrupado"
   ]
  },
  {
   "cell_type": "code",
   "execution_count": 7,
   "metadata": {},
   "outputs": [
    {
     "data": {
      "text/plain": [
       "Unnamed: 0                                                                                                                                                                                                                                                                0\n",
       "Unidade da Federação                                                                                                                                                                                                                                                      0\n",
       "Algum médico ou profissional de saúde (como psiquiatra ou psicólogo) já lhe deu o diagnóstico de outra doença mental, como transtorno de ansiedade, síndrome do pânico, esquizofrenia, transtorno bipolar, psicose ou TOC (Transtorno Obsessivo Compulsivo) etc?     288821\n",
       "Em geral, em que grau essa doença mental limita as suas atividades habituais (tais como trabalhar, realizar afazeres domésticos etc.)?                                                                                                                               202880\n",
       "Sexo                                                                                                                                                                                                                                                                  14344\n",
       "Cor ou raça                                                                                                                                                                                                                                                           14344\n",
       "Qual é o curso que frequenta                                                                                                                                                                                                                                         211144\n",
       "De um modo geral, como é o estado de saúde de________                                                                                                                                                                                                                 14344\n",
       " Qual foi o principal motivo de saúde que impediu ___ de realizar suas atividades habituais nas duas últimas semanas                                                                                                                                                 267959\n",
       "Com que frequência o(a) Sr(a) costuma consumir alguma bebida alcoólica?                                                                                                                                                                                              202880\n",
       "Ano de nascimento                                                                                                                                                                                                                                                     14344\n",
       "Faixa de rendimento domiciliar per capita (exclusive o rendimento das pessoas cuja condição na unidade domiciliar era pensionista, empregado doméstico ou parente do empregado doméstico)                                                                            282189\n",
       "Considerando saúde como um estado de bem-estar físico e mental, e não somente a ausência de doenças, como é o estado de saúde de _____________?                                                                                                                       14344\n",
       "Algum médico já lhe deu algum diagnóstico de outra doença crônica (física ou mental) ou doença de longa duração (de mais de 6 meses de duração)?                                                                                                                     202880\n",
       "Alguma dessas doenças limita de alguma forma suas atividades habituais (trabalhar, ir à escola, brincar, afazeres domésticos, etc.)                                                                                                                                  213179\n",
       "Quando ____ consultou um médico pela última vez                                                                                                                                                                                                                       14344\n",
       "O(A) Sr(a) visita o médico/serviço de saúde regularmente por causa dessa doença mental ou só quando tem algum problema?                                                                                                                                              288821\n",
       "Por causa da doença mental Faz acompanhamento regular com profissional de saúde                                                                                                                                                                                      288821\n",
       "Atualmente, o(a) Sr(a) fuma algum produto do tabaco?                                                                                                                                                                                                                 202880\n",
       "E no passado, o(a) Sr(a) fumou algum produto do tabaco diariamente?                                                                                                                                                                                                  287722\n",
       "Diagnóstico de TOC (Transtorno obsessivo compulsivo)                                                                                                                                                                                                                      0\n",
       "dtype: int64"
      ]
     },
     "execution_count": 7,
     "metadata": {},
     "output_type": "execute_result"
    }
   ],
   "source": [
    "df_diagnostico_3.isnull().sum()"
   ]
  },
  {
   "cell_type": "code",
   "execution_count": 8,
   "metadata": {},
   "outputs": [],
   "source": [
    "now = datetime.datetime.now()\n",
    "# Defina os limites de idade desejados\n",
    "limite_inferior = 7\n",
    "limite_superior = 130\n",
    "\n",
    "# Filtrar linhas com idade dentro do intervalo desejado\n",
    "df_diagnostico_3 = df_diagnostico_3[(df_diagnostico_3['Ano de nascimento'] <= (now.year - limite_inferior)) & (df_diagnostico_3['Ano de nascimento'] >= (now.year - limite_superior))]\n",
    "\n",
    "# Agora, df contém apenas as linhas com idade dentro do intervalo especificado (7 a 130 anos)\n"
   ]
  },
  {
   "cell_type": "code",
   "execution_count": 9,
   "metadata": {},
   "outputs": [],
   "source": [
    "df_diagnostico_3 = df_diagnostico_3.drop(columns=['Faixa de rendimento domiciliar per capita (exclusive o rendimento das pessoas cuja condição na unidade domiciliar era pensionista, empregado doméstico ou parente do empregado doméstico)'])\n",
    "df_diagnostico_3 = df_diagnostico_3.drop(columns=['Qual é o curso que frequenta'])\n",
    "df_diagnostico_3 = df_diagnostico_3.drop(columns=['E no passado, o(a) Sr(a) fumou algum produto do tabaco diariamente? '])\n",
    "df_diagnostico_3 = df_diagnostico_3.drop(columns=['Alguma dessas doenças limita de alguma forma suas atividades habituais (trabalhar, ir à escola, brincar, afazeres domésticos, etc.)'])\n",
    "df_diagnostico_3 = df_diagnostico_3.drop(columns=[' Qual foi o principal motivo de saúde que impediu ___ de realizar suas atividades habituais nas duas últimas semanas '])\n",
    "df_diagnostico_3 = df_diagnostico_3.drop(columns=['Unnamed: 0'])"
   ]
  },
  {
   "cell_type": "code",
   "execution_count": 10,
   "metadata": {},
   "outputs": [],
   "source": [
    "df_diagnostico_3.fillna(0, inplace=True)"
   ]
  },
  {
   "cell_type": "code",
   "execution_count": 11,
   "metadata": {},
   "outputs": [
    {
     "data": {
      "text/plain": [
       "Unidade da Federação                                                                                                                                                                                                                                                 0\n",
       "Algum médico ou profissional de saúde (como psiquiatra ou psicólogo) já lhe deu o diagnóstico de outra doença mental, como transtorno de ansiedade, síndrome do pânico, esquizofrenia, transtorno bipolar, psicose ou TOC (Transtorno Obsessivo Compulsivo) etc?     0\n",
       "Em geral, em que grau essa doença mental limita as suas atividades habituais (tais como trabalhar, realizar afazeres domésticos etc.)?                                                                                                                               0\n",
       "Sexo                                                                                                                                                                                                                                                                 0\n",
       "Cor ou raça                                                                                                                                                                                                                                                          0\n",
       "De um modo geral, como é o estado de saúde de________                                                                                                                                                                                                                0\n",
       "Com que frequência o(a) Sr(a) costuma consumir alguma bebida alcoólica?                                                                                                                                                                                              0\n",
       "Ano de nascimento                                                                                                                                                                                                                                                    0\n",
       "Considerando saúde como um estado de bem-estar físico e mental, e não somente a ausência de doenças, como é o estado de saúde de _____________?                                                                                                                      0\n",
       "Algum médico já lhe deu algum diagnóstico de outra doença crônica (física ou mental) ou doença de longa duração (de mais de 6 meses de duração)?                                                                                                                     0\n",
       "Quando ____ consultou um médico pela última vez                                                                                                                                                                                                                      0\n",
       "O(A) Sr(a) visita o médico/serviço de saúde regularmente por causa dessa doença mental ou só quando tem algum problema?                                                                                                                                              0\n",
       "Por causa da doença mental Faz acompanhamento regular com profissional de saúde                                                                                                                                                                                      0\n",
       "Atualmente, o(a) Sr(a) fuma algum produto do tabaco?                                                                                                                                                                                                                 0\n",
       "Diagnóstico de TOC (Transtorno obsessivo compulsivo)                                                                                                                                                                                                                 0\n",
       "dtype: int64"
      ]
     },
     "execution_count": 11,
     "metadata": {},
     "output_type": "execute_result"
    }
   ],
   "source": [
    "df_diagnostico_3.isnull().sum()"
   ]
  },
  {
   "cell_type": "code",
   "execution_count": 12,
   "metadata": {},
   "outputs": [
    {
     "data": {
      "text/plain": [
       "Diagnóstico de TOC (Transtorno obsessivo compulsivo) \n",
       "3.0    249552\n",
       "dtype: int64"
      ]
     },
     "execution_count": 12,
     "metadata": {},
     "output_type": "execute_result"
    }
   ],
   "source": [
    "agrupado = df_diagnostico_3.groupby(['Diagnóstico de TOC (Transtorno obsessivo compulsivo) ']).size()\n",
    "agrupado"
   ]
  },
  {
   "cell_type": "code",
   "execution_count": 13,
   "metadata": {},
   "outputs": [],
   "source": [
    "X = df_diagnostico_3"
   ]
  },
  {
   "cell_type": "code",
   "execution_count": 97,
   "metadata": {},
   "outputs": [
    {
     "name": "stdout",
     "output_type": "stream",
     "text": [
      "Método Elbow concluído!\n"
     ]
    }
   ],
   "source": [
    "# Número ótimo de clusters pela técnica do cotovelo (Elbow)\n",
    "\n",
    "from scipy.spatial.distance import cdist\n",
    "\n",
    "distortions = []\n",
    "inertias = []\n",
    "mapping1 = {}\n",
    "mapping2 = {}\n",
    "K = range(1, 10)\n",
    " \n",
    "for k in K:\n",
    "    kmeanModel = KMeans(n_init=\"auto\", n_clusters=k, random_state=1).fit(X)\n",
    "    kmeanModel.fit(X)\n",
    "    distortions.append(sum(np.min(cdist(X, kmeanModel.cluster_centers_, 'euclidean'), axis=1)) / X.shape[0])\n",
    "    inertias.append(kmeanModel.inertia_)\n",
    "    mapping1[k] = sum(np.min(cdist(X, kmeanModel.cluster_centers_, 'euclidean'), axis=1)) / X.shape[0]\n",
    "    mapping2[k] = kmeanModel.inertia_\n",
    "print(\"Método Elbow concluído!\")"
   ]
  },
  {
   "cell_type": "code",
   "execution_count": 98,
   "metadata": {},
   "outputs": [
    {
     "data": {
      "image/png": "[encoded data removed]",
      "text/plain": [
       "<Figure size 1000x400 with 2 Axes>"
      ]
     },
     "metadata": {},
     "output_type": "display_data"
    }
   ],
   "source": [
    "fig, axes = plt.subplots(nrows=1, ncols=2, figsize=(10, 4))\n",
    "\n",
    "# for key, val in mapping1.items():\n",
    "#     print(f'{key} : {val}')\n",
    "\n",
    "plt.subplot(1, 2, 1)\n",
    "plt.plot(K, distortions, 'bx-')\n",
    "plt.xlabel('Valores de K')\n",
    "plt.ylabel('Distorcao')\n",
    "plt.title('Método Elbow - Distorção')\n",
    "\n",
    "# for key, val in mapping2.items():\n",
    "#     print(f'{key} : {val}')\n",
    "\n",
    "plt.subplot(1, 2, 2)\n",
    "plt.plot(K, inertias, 'bx-')\n",
    "plt.xlabel('Valores de K')\n",
    "plt.ylabel('Inercia')\n",
    "plt.title('Método Elbow - Inercia')\n",
    "\n",
    "fig.tight_layout()\n",
    "plt.show()"
   ]
  },
  {
   "cell_type": "code",
   "execution_count": 99,
   "metadata": {},
   "outputs": [
    {
     "ename": "KeyboardInterrupt",
     "evalue": "",
     "output_type": "error",
     "traceback": [
      "\u001b[1;31m---------------------------------------------------------------------------\u001b[0m",
      "\u001b[1;31mKeyboardInterrupt\u001b[0m                         Traceback (most recent call last)",
      "\u001b[1;32mc:\\Users\\Gabriel\\Documents\\prova rn\\toc-ai-deepLearning-main\\toc-ai-deepLearning-main\\TCC-TOC-clusteringv3.ipynb Cell 16\u001b[0m line \u001b[0;36m1\n\u001b[0;32m      <a href='vscode-notebook-cell:/c%3A/Users/Gabriel/Documents/prova%20rn/toc-ai-deepLearning-main/toc-ai-deepLearning-main/TCC-TOC-clusteringv3.ipynb#X21sZmlsZQ%3D%3D?line=8'>9</a>\u001b[0m kmeans \u001b[39m=\u001b[39m KMeans(n_init\u001b[39m=\u001b[39m\u001b[39m\"\u001b[39m\u001b[39mauto\u001b[39m\u001b[39m\"\u001b[39m, n_clusters\u001b[39m=\u001b[39mn_cluster, random_state\u001b[39m=\u001b[39m\u001b[39m1\u001b[39m)\u001b[39m.\u001b[39mfit(X)\n\u001b[0;32m     <a href='vscode-notebook-cell:/c%3A/Users/Gabriel/Documents/prova%20rn/toc-ai-deepLearning-main/toc-ai-deepLearning-main/TCC-TOC-clusteringv3.ipynb#X21sZmlsZQ%3D%3D?line=9'>10</a>\u001b[0m labels \u001b[39m=\u001b[39m kmeans\u001b[39m.\u001b[39mlabels_\n\u001b[1;32m---> <a href='vscode-notebook-cell:/c%3A/Users/Gabriel/Documents/prova%20rn/toc-ai-deepLearning-main/toc-ai-deepLearning-main/TCC-TOC-clusteringv3.ipynb#X21sZmlsZQ%3D%3D?line=10'>11</a>\u001b[0m sil_coeff \u001b[39m=\u001b[39m silhouette_score(X, labels, metric\u001b[39m=\u001b[39m\u001b[39m'\u001b[39m\u001b[39meuclidean\u001b[39m\u001b[39m'\u001b[39m)\n\u001b[0;32m     <a href='vscode-notebook-cell:/c%3A/Users/Gabriel/Documents/prova%20rn/toc-ai-deepLearning-main/toc-ai-deepLearning-main/TCC-TOC-clusteringv3.ipynb#X21sZmlsZQ%3D%3D?line=11'>12</a>\u001b[0m bestK\u001b[39m.\u001b[39mappend(sil_coeff)\n\u001b[0;32m     <a href='vscode-notebook-cell:/c%3A/Users/Gabriel/Documents/prova%20rn/toc-ai-deepLearning-main/toc-ai-deepLearning-main/TCC-TOC-clusteringv3.ipynb#X21sZmlsZQ%3D%3D?line=12'>13</a>\u001b[0m \u001b[39mprint\u001b[39m(\u001b[39m\"\u001b[39m\u001b[39mFor n_clusters=\u001b[39m\u001b[39m{}\u001b[39;00m\u001b[39m, The Silhouette Coefficient is \u001b[39m\u001b[39m{}\u001b[39;00m\u001b[39m\"\u001b[39m\u001b[39m.\u001b[39mformat(n_cluster, sil_coeff))\n",
      "File \u001b[1;32mc:\\Users\\Gabriel\\anaconda3\\Lib\\site-packages\\sklearn\\utils\\_param_validation.py:214\u001b[0m, in \u001b[0;36mvalidate_params.<locals>.decorator.<locals>.wrapper\u001b[1;34m(*args, **kwargs)\u001b[0m\n\u001b[0;32m    208\u001b[0m \u001b[39mtry\u001b[39;00m:\n\u001b[0;32m    209\u001b[0m     \u001b[39mwith\u001b[39;00m config_context(\n\u001b[0;32m    210\u001b[0m         skip_parameter_validation\u001b[39m=\u001b[39m(\n\u001b[0;32m    211\u001b[0m             prefer_skip_nested_validation \u001b[39mor\u001b[39;00m global_skip_validation\n\u001b[0;32m    212\u001b[0m         )\n\u001b[0;32m    213\u001b[0m     ):\n\u001b[1;32m--> 214\u001b[0m         \u001b[39mreturn\u001b[39;00m func(\u001b[39m*\u001b[39margs, \u001b[39m*\u001b[39m\u001b[39m*\u001b[39mkwargs)\n\u001b[0;32m    215\u001b[0m \u001b[39mexcept\u001b[39;00m InvalidParameterError \u001b[39mas\u001b[39;00m e:\n\u001b[0;32m    216\u001b[0m     \u001b[39m# When the function is just a wrapper around an estimator, we allow\u001b[39;00m\n\u001b[0;32m    217\u001b[0m     \u001b[39m# the function to delegate validation to the estimator, but we replace\u001b[39;00m\n\u001b[0;32m    218\u001b[0m     \u001b[39m# the name of the estimator by the name of the function in the error\u001b[39;00m\n\u001b[0;32m    219\u001b[0m     \u001b[39m# message to avoid confusion.\u001b[39;00m\n\u001b[0;32m    220\u001b[0m     msg \u001b[39m=\u001b[39m re\u001b[39m.\u001b[39msub(\n\u001b[0;32m    221\u001b[0m         \u001b[39mr\u001b[39m\u001b[39m\"\u001b[39m\u001b[39mparameter of \u001b[39m\u001b[39m\\\u001b[39m\u001b[39mw+ must be\u001b[39m\u001b[39m\"\u001b[39m,\n\u001b[0;32m    222\u001b[0m         \u001b[39mf\u001b[39m\u001b[39m\"\u001b[39m\u001b[39mparameter of \u001b[39m\u001b[39m{\u001b[39;00mfunc\u001b[39m.\u001b[39m\u001b[39m__qualname__\u001b[39m\u001b[39m}\u001b[39;00m\u001b[39m must be\u001b[39m\u001b[39m\"\u001b[39m,\n\u001b[0;32m    223\u001b[0m         \u001b[39mstr\u001b[39m(e),\n\u001b[0;32m    224\u001b[0m     )\n",
      "File \u001b[1;32mc:\\Users\\Gabriel\\anaconda3\\Lib\\site-packages\\sklearn\\metrics\\cluster\\_unsupervised.py:130\u001b[0m, in \u001b[0;36msilhouette_score\u001b[1;34m(X, labels, metric, sample_size, random_state, **kwds)\u001b[0m\n\u001b[0;32m    128\u001b[0m     \u001b[39melse\u001b[39;00m:\n\u001b[0;32m    129\u001b[0m         X, labels \u001b[39m=\u001b[39m X[indices], labels[indices]\n\u001b[1;32m--> 130\u001b[0m \u001b[39mreturn\u001b[39;00m np\u001b[39m.\u001b[39mmean(silhouette_samples(X, labels, metric\u001b[39m=\u001b[39mmetric, \u001b[39m*\u001b[39m\u001b[39m*\u001b[39mkwds))\n",
      "File \u001b[1;32mc:\\Users\\Gabriel\\anaconda3\\Lib\\site-packages\\sklearn\\utils\\_param_validation.py:187\u001b[0m, in \u001b[0;36mvalidate_params.<locals>.decorator.<locals>.wrapper\u001b[1;34m(*args, **kwargs)\u001b[0m\n\u001b[0;32m    185\u001b[0m global_skip_validation \u001b[39m=\u001b[39m get_config()[\u001b[39m\"\u001b[39m\u001b[39mskip_parameter_validation\u001b[39m\u001b[39m\"\u001b[39m]\n\u001b[0;32m    186\u001b[0m \u001b[39mif\u001b[39;00m global_skip_validation:\n\u001b[1;32m--> 187\u001b[0m     \u001b[39mreturn\u001b[39;00m func(\u001b[39m*\u001b[39margs, \u001b[39m*\u001b[39m\u001b[39m*\u001b[39mkwargs)\n\u001b[0;32m    189\u001b[0m func_sig \u001b[39m=\u001b[39m signature(func)\n\u001b[0;32m    191\u001b[0m \u001b[39m# Map *args/**kwargs to the function signature\u001b[39;00m\n",
      "File \u001b[1;32mc:\\Users\\Gabriel\\anaconda3\\Lib\\site-packages\\sklearn\\metrics\\cluster\\_unsupervised.py:282\u001b[0m, in \u001b[0;36msilhouette_samples\u001b[1;34m(X, labels, metric, **kwds)\u001b[0m\n\u001b[0;32m    278\u001b[0m kwds[\u001b[39m\"\u001b[39m\u001b[39mmetric\u001b[39m\u001b[39m\"\u001b[39m] \u001b[39m=\u001b[39m metric\n\u001b[0;32m    279\u001b[0m reduce_func \u001b[39m=\u001b[39m functools\u001b[39m.\u001b[39mpartial(\n\u001b[0;32m    280\u001b[0m     _silhouette_reduce, labels\u001b[39m=\u001b[39mlabels, label_freqs\u001b[39m=\u001b[39mlabel_freqs\n\u001b[0;32m    281\u001b[0m )\n\u001b[1;32m--> 282\u001b[0m results \u001b[39m=\u001b[39m \u001b[39mzip\u001b[39m(\u001b[39m*\u001b[39mpairwise_distances_chunked(X, reduce_func\u001b[39m=\u001b[39mreduce_func, \u001b[39m*\u001b[39m\u001b[39m*\u001b[39mkwds))\n\u001b[0;32m    283\u001b[0m intra_clust_dists, inter_clust_dists \u001b[39m=\u001b[39m results\n\u001b[0;32m    284\u001b[0m intra_clust_dists \u001b[39m=\u001b[39m np\u001b[39m.\u001b[39mconcatenate(intra_clust_dists)\n",
      "File \u001b[1;32mc:\\Users\\Gabriel\\anaconda3\\Lib\\site-packages\\sklearn\\metrics\\pairwise.py:2018\u001b[0m, in \u001b[0;36mpairwise_distances_chunked\u001b[1;34m(X, Y, reduce_func, metric, n_jobs, working_memory, **kwds)\u001b[0m\n\u001b[0;32m   2016\u001b[0m \u001b[39melse\u001b[39;00m:\n\u001b[0;32m   2017\u001b[0m     X_chunk \u001b[39m=\u001b[39m X[sl]\n\u001b[1;32m-> 2018\u001b[0m D_chunk \u001b[39m=\u001b[39m pairwise_distances(X_chunk, Y, metric\u001b[39m=\u001b[39mmetric, n_jobs\u001b[39m=\u001b[39mn_jobs, \u001b[39m*\u001b[39m\u001b[39m*\u001b[39mkwds)\n\u001b[0;32m   2019\u001b[0m \u001b[39mif\u001b[39;00m (X \u001b[39mis\u001b[39;00m Y \u001b[39mor\u001b[39;00m Y \u001b[39mis\u001b[39;00m \u001b[39mNone\u001b[39;00m) \u001b[39mand\u001b[39;00m PAIRWISE_DISTANCE_FUNCTIONS\u001b[39m.\u001b[39mget(\n\u001b[0;32m   2020\u001b[0m     metric, \u001b[39mNone\u001b[39;00m\n\u001b[0;32m   2021\u001b[0m ) \u001b[39mis\u001b[39;00m euclidean_distances:\n\u001b[0;32m   2022\u001b[0m     \u001b[39m# zeroing diagonal, taking care of aliases of \"euclidean\",\u001b[39;00m\n\u001b[0;32m   2023\u001b[0m     \u001b[39m# i.e. \"l2\"\u001b[39;00m\n\u001b[0;32m   2024\u001b[0m     D_chunk\u001b[39m.\u001b[39mflat[sl\u001b[39m.\u001b[39mstart :: _num_samples(X) \u001b[39m+\u001b[39m \u001b[39m1\u001b[39m] \u001b[39m=\u001b[39m \u001b[39m0\u001b[39m\n",
      "File \u001b[1;32mc:\\Users\\Gabriel\\anaconda3\\Lib\\site-packages\\sklearn\\metrics\\pairwise.py:2196\u001b[0m, in \u001b[0;36mpairwise_distances\u001b[1;34m(X, Y, metric, n_jobs, force_all_finite, **kwds)\u001b[0m\n\u001b[0;32m   2193\u001b[0m         \u001b[39mreturn\u001b[39;00m distance\u001b[39m.\u001b[39msquareform(distance\u001b[39m.\u001b[39mpdist(X, metric\u001b[39m=\u001b[39mmetric, \u001b[39m*\u001b[39m\u001b[39m*\u001b[39mkwds))\n\u001b[0;32m   2194\u001b[0m     func \u001b[39m=\u001b[39m partial(distance\u001b[39m.\u001b[39mcdist, metric\u001b[39m=\u001b[39mmetric, \u001b[39m*\u001b[39m\u001b[39m*\u001b[39mkwds)\n\u001b[1;32m-> 2196\u001b[0m \u001b[39mreturn\u001b[39;00m _parallel_pairwise(X, Y, func, n_jobs, \u001b[39m*\u001b[39m\u001b[39m*\u001b[39mkwds)\n",
      "File \u001b[1;32mc:\\Users\\Gabriel\\anaconda3\\Lib\\site-packages\\sklearn\\metrics\\pairwise.py:1766\u001b[0m, in \u001b[0;36m_parallel_pairwise\u001b[1;34m(X, Y, func, n_jobs, **kwds)\u001b[0m\n\u001b[0;32m   1763\u001b[0m X, Y, dtype \u001b[39m=\u001b[39m _return_float_dtype(X, Y)\n\u001b[0;32m   1765\u001b[0m \u001b[39mif\u001b[39;00m effective_n_jobs(n_jobs) \u001b[39m==\u001b[39m \u001b[39m1\u001b[39m:\n\u001b[1;32m-> 1766\u001b[0m     \u001b[39mreturn\u001b[39;00m func(X, Y, \u001b[39m*\u001b[39m\u001b[39m*\u001b[39mkwds)\n\u001b[0;32m   1768\u001b[0m \u001b[39m# enforce a threading backend to prevent data communication overhead\u001b[39;00m\n\u001b[0;32m   1769\u001b[0m fd \u001b[39m=\u001b[39m delayed(_dist_wrapper)\n",
      "File \u001b[1;32mc:\\Users\\Gabriel\\anaconda3\\Lib\\site-packages\\sklearn\\metrics\\pairwise.py:338\u001b[0m, in \u001b[0;36meuclidean_distances\u001b[1;34m(X, Y, Y_norm_squared, squared, X_norm_squared)\u001b[0m\n\u001b[0;32m    332\u001b[0m     \u001b[39mif\u001b[39;00m Y_norm_squared\u001b[39m.\u001b[39mshape \u001b[39m!=\u001b[39m (\u001b[39m1\u001b[39m, Y\u001b[39m.\u001b[39mshape[\u001b[39m0\u001b[39m]):\n\u001b[0;32m    333\u001b[0m         \u001b[39mraise\u001b[39;00m \u001b[39mValueError\u001b[39;00m(\n\u001b[0;32m    334\u001b[0m             \u001b[39mf\u001b[39m\u001b[39m\"\u001b[39m\u001b[39mIncompatible dimensions for Y of shape \u001b[39m\u001b[39m{\u001b[39;00mY\u001b[39m.\u001b[39mshape\u001b[39m}\u001b[39;00m\u001b[39m and \u001b[39m\u001b[39m\"\u001b[39m\n\u001b[0;32m    335\u001b[0m             \u001b[39mf\u001b[39m\u001b[39m\"\u001b[39m\u001b[39mY_norm_squared of shape \u001b[39m\u001b[39m{\u001b[39;00moriginal_shape\u001b[39m}\u001b[39;00m\u001b[39m.\u001b[39m\u001b[39m\"\u001b[39m\n\u001b[0;32m    336\u001b[0m         )\n\u001b[1;32m--> 338\u001b[0m \u001b[39mreturn\u001b[39;00m _euclidean_distances(X, Y, X_norm_squared, Y_norm_squared, squared)\n",
      "File \u001b[1;32mc:\\Users\\Gabriel\\anaconda3\\Lib\\site-packages\\sklearn\\metrics\\pairwise.py:382\u001b[0m, in \u001b[0;36m_euclidean_distances\u001b[1;34m(X, Y, X_norm_squared, Y_norm_squared, squared)\u001b[0m\n\u001b[0;32m    380\u001b[0m     distances \u001b[39m+\u001b[39m\u001b[39m=\u001b[39m XX\n\u001b[0;32m    381\u001b[0m     distances \u001b[39m+\u001b[39m\u001b[39m=\u001b[39m YY\n\u001b[1;32m--> 382\u001b[0m np\u001b[39m.\u001b[39mmaximum(distances, \u001b[39m0\u001b[39m, out\u001b[39m=\u001b[39mdistances)\n\u001b[0;32m    384\u001b[0m \u001b[39m# Ensure that distances between vectors and themselves are set to 0.0.\u001b[39;00m\n\u001b[0;32m    385\u001b[0m \u001b[39m# This may not be the case due to floating point rounding errors.\u001b[39;00m\n\u001b[0;32m    386\u001b[0m \u001b[39mif\u001b[39;00m X \u001b[39mis\u001b[39;00m Y:\n",
      "\u001b[1;31mKeyboardInterrupt\u001b[0m: "
     ]
    }
   ],
   "source": [
    "# Número ótimo de clusters pela técnica de Silhoutte Index\n",
    "#demora muito --- comentar esse código\n",
    "\n",
    "from sklearn.cluster import KMeans\n",
    "from sklearn.metrics import silhouette_score\n",
    "\n",
    "bestK = []\n",
    "for n_cluster in range(2, 11):\n",
    "    kmeans = KMeans(n_init=\"auto\", n_clusters=n_cluster, random_state=1).fit(X)\n",
    "    labels = kmeans.labels_\n",
    "    sil_coeff = silhouette_score(X, labels, metric='euclidean')\n",
    "    bestK.append(sil_coeff)\n",
    "    print(\"For n_clusters={}, The Silhouette Coefficient is {}\".format(n_cluster, sil_coeff))\n",
    "print('K = {}, Coeficiente = {}'.format(bestK.index(max(bestK))+2, max(bestK)))"
   ]
  },
  {
   "cell_type": "code",
   "execution_count": null,
   "metadata": {},
   "outputs": [
    {
     "ename": "NameError",
     "evalue": "name 'bestK' is not defined",
     "output_type": "error",
     "traceback": [
      "\u001b[1;31m---------------------------------------------------------------------------\u001b[0m",
      "\u001b[1;31mNameError\u001b[0m                                 Traceback (most recent call last)",
      "\u001b[1;32mc:\\Users\\Gabriel\\Documents\\prova rn\\toc-ai-deepLearning-main\\toc-ai-deepLearning-main\\TCC-TOC-clusteringv3.ipynb Cell 17\u001b[0m line \u001b[0;36m1\n\u001b[1;32m----> <a href='vscode-notebook-cell:/c%3A/Users/Gabriel/Documents/prova%20rn/toc-ai-deepLearning-main/toc-ai-deepLearning-main/TCC-TOC-clusteringv3.ipynb#X22sZmlsZQ%3D%3D?line=0'>1</a>\u001b[0m k \u001b[39m=\u001b[39m bestK\u001b[39m.\u001b[39mindex(\u001b[39mmax\u001b[39m(bestK))\u001b[39m+\u001b[39m\u001b[39m2\u001b[39m\n\u001b[0;32m      <a href='vscode-notebook-cell:/c%3A/Users/Gabriel/Documents/prova%20rn/toc-ai-deepLearning-main/toc-ai-deepLearning-main/TCC-TOC-clusteringv3.ipynb#X22sZmlsZQ%3D%3D?line=1'>2</a>\u001b[0m coef \u001b[39m=\u001b[39m \u001b[39mmax\u001b[39m(bestK)\n\u001b[0;32m      <a href='vscode-notebook-cell:/c%3A/Users/Gabriel/Documents/prova%20rn/toc-ai-deepLearning-main/toc-ai-deepLearning-main/TCC-TOC-clusteringv3.ipynb#X22sZmlsZQ%3D%3D?line=2'>3</a>\u001b[0m \u001b[39mprint\u001b[39m(\u001b[39m\"\u001b[39m\u001b[39m#Clusters K:\u001b[39m\u001b[39m\"\u001b[39m, k, \u001b[39m\"\u001b[39m\u001b[39m\\n\u001b[39;00m\u001b[39mCoeficiente:\u001b[39m\u001b[39m\"\u001b[39m, coef)\n",
      "\u001b[1;31mNameError\u001b[0m: name 'bestK' is not defined"
     ]
    }
   ],
   "source": [
    "k = bestK.index(max(bestK))+2\n",
    "coef = max(bestK)\n",
    "print(\"#Clusters K:\", k, \"\\nCoeficiente:\", coef)"
   ]
  },
  {
   "cell_type": "code",
   "execution_count": 14,
   "metadata": {},
   "outputs": [],
   "source": [
    "kmeans = KMeans(n_clusters=2, random_state=42, n_init=10).fit(X)"
   ]
  },
  {
   "cell_type": "code",
   "execution_count": 15,
   "metadata": {},
   "outputs": [],
   "source": [
    "labels = kmeans.labels_"
   ]
  },
  {
   "cell_type": "code",
   "execution_count": 16,
   "metadata": {},
   "outputs": [
    {
     "name": "stdout",
     "output_type": "stream",
     "text": [
      "{0: 137501, 1: 112051, 2: 0, 3: 0, 4: 0, 5: 0, 6: 0, 7: 0, 8: 0, 9: 0}\n"
     ]
    }
   ],
   "source": [
    "toc_count = {}  # Dicionário para armazenar as contagens de diagnóstico de TOC\n",
    "\n",
    "for cluster_num in range(10):\n",
    "    # Filtra as amostras no cluster atual\n",
    "    cluster_samples = df_diagnostico_3[labels == cluster_num]\n",
    "    \n",
    "    # Conta quantos diagnósticos de TOC igual a 2.0 estão presentes no cluster\n",
    "    toc_count[cluster_num] = (cluster_samples['Diagnóstico de TOC (Transtorno obsessivo compulsivo) '] == 3.0).sum()\n",
    "\n",
    "# 'toc_count' agora contém o número de diagnósticos de TOC igual a 2.0 em cada cluster\n",
    "print(toc_count)"
   ]
  },
  {
   "cell_type": "code",
   "execution_count": 17,
   "metadata": {},
   "outputs": [],
   "source": [
    "import pandas as pd\n",
    "\n",
    "# Carregue o arquivo \"pns-reduzido-2019.csv\"\n",
    "pns_reduzido = pd.read_csv('pns-reduzido-2019-notnull.csv')  \n",
    "\n",
    "# Selecione aleatoriamente 2256 amostras com diagnóstico igual a 3 (===3) da base de dados 'amostras_diagnostico_3'\n",
    "amostras_selecionadas_diagnostico_3 = df_diagnostico_3.sample(n=2542, random_state=42)\n",
    "\n",
    "# Atualize o diagnóstico dessas amostras para 2 (===2)\n",
    "amostras_selecionadas_diagnostico_3['Diagnóstico de TOC (Transtorno obsessivo compulsivo) '] = 2.0\n",
    "\n",
    "# Concatene as amostras atualizadas com o DataFrame original\n",
    "pns_reduzido = pd.concat([pns_reduzido, amostras_selecionadas_diagnostico_3])\n",
    "\n",
    "# Salve o DataFrame atualizado no mesmo arquivo CSV\n",
    "pns_reduzido.to_csv('pns-reduzido-2019-notnull-full.csv', index=False)  \n"
   ]
  },
  {
   "cell_type": "code",
   "execution_count": 18,
   "metadata": {},
   "outputs": [],
   "source": [
    "df1 = pd.read_csv('pns-reduzido-2019-notnull-full.csv')"
   ]
  },
  {
   "cell_type": "code",
   "execution_count": 19,
   "metadata": {},
   "outputs": [
    {
     "data": {
      "text/plain": [
       "Diagnóstico de TOC (Transtorno obsessivo compulsivo) \n",
       "1.0    3661\n",
       "2.0    3661\n",
       "dtype: int64"
      ]
     },
     "execution_count": 19,
     "metadata": {},
     "output_type": "execute_result"
    }
   ],
   "source": [
    "# Pessoas que tiveram diagnóstico de toc: 1.0, Pessoas que não tiveram: 2.0,\n",
    "agrupado = df1.groupby(['Diagnóstico de TOC (Transtorno obsessivo compulsivo) ']).size()\n",
    "agrupado\n"
   ]
  },
  {
   "cell_type": "code",
   "execution_count": 20,
   "metadata": {},
   "outputs": [
    {
     "data": {
      "text/plain": [
       "Unnamed: 0.1                                                                                                                                                                                                                                                         2542\n",
       "Unnamed: 0                                                                                                                                                                                                                                                           2542\n",
       "Unidade da Federação                                                                                                                                                                                                                                                    0\n",
       "Algum médico ou profissional de saúde (como psiquiatra ou psicólogo) já lhe deu o diagnóstico de outra doença mental, como transtorno de ansiedade, síndrome do pânico, esquizofrenia, transtorno bipolar, psicose ou TOC (Transtorno Obsessivo Compulsivo) etc?        0\n",
       "Em geral, em que grau essa doença mental limita as suas atividades habituais (tais como trabalhar, realizar afazeres domésticos etc.)?                                                                                                                                  0\n",
       "Sexo                                                                                                                                                                                                                                                                    0\n",
       "Cor ou raça                                                                                                                                                                                                                                                             0\n",
       "De um modo geral, como é o estado de saúde de________                                                                                                                                                                                                                   0\n",
       "Com que frequência o(a) Sr(a) costuma consumir alguma bebida alcoólica?                                                                                                                                                                                                 0\n",
       "Ano de nascimento                                                                                                                                                                                                                                                       0\n",
       "Considerando saúde como um estado de bem-estar físico e mental, e não somente a ausência de doenças, como é o estado de saúde de _____________?                                                                                                                         0\n",
       "Algum médico já lhe deu algum diagnóstico de outra doença crônica (física ou mental) ou doença de longa duração (de mais de 6 meses de duração)?                                                                                                                        0\n",
       "Quando ____ consultou um médico pela última vez                                                                                                                                                                                                                         0\n",
       "O(A) Sr(a) visita o médico/serviço de saúde regularmente por causa dessa doença mental ou só quando tem algum problema?                                                                                                                                                 0\n",
       "Por causa da doença mental Faz acompanhamento regular com profissional de saúde                                                                                                                                                                                         0\n",
       "Atualmente, o(a) Sr(a) fuma algum produto do tabaco?                                                                                                                                                                                                                    0\n",
       "Diagnóstico de TOC (Transtorno obsessivo compulsivo)                                                                                                                                                                                                                    0\n",
       "dtype: int64"
      ]
     },
     "execution_count": 20,
     "metadata": {},
     "output_type": "execute_result"
    }
   ],
   "source": [
    "df1.isnull().sum()"
   ]
  },
  {
   "cell_type": "code",
   "execution_count": 21,
   "metadata": {},
   "outputs": [],
   "source": [
    "df1 = df1.drop(['Unnamed: 0.1', 'Unnamed: 0', 'Por causa da doença mental Faz acompanhamento regular com profissional de saúde'], axis=1)"
   ]
  },
  {
   "cell_type": "code",
   "execution_count": 22,
   "metadata": {},
   "outputs": [
    {
     "data": {
      "text/plain": [
       "Unidade da Federação                                                                                                                                                                                                                                                 0\n",
       "Algum médico ou profissional de saúde (como psiquiatra ou psicólogo) já lhe deu o diagnóstico de outra doença mental, como transtorno de ansiedade, síndrome do pânico, esquizofrenia, transtorno bipolar, psicose ou TOC (Transtorno Obsessivo Compulsivo) etc?     0\n",
       "Em geral, em que grau essa doença mental limita as suas atividades habituais (tais como trabalhar, realizar afazeres domésticos etc.)?                                                                                                                               0\n",
       "Sexo                                                                                                                                                                                                                                                                 0\n",
       "Cor ou raça                                                                                                                                                                                                                                                          0\n",
       "De um modo geral, como é o estado de saúde de________                                                                                                                                                                                                                0\n",
       "Com que frequência o(a) Sr(a) costuma consumir alguma bebida alcoólica?                                                                                                                                                                                              0\n",
       "Ano de nascimento                                                                                                                                                                                                                                                    0\n",
       "Considerando saúde como um estado de bem-estar físico e mental, e não somente a ausência de doenças, como é o estado de saúde de _____________?                                                                                                                      0\n",
       "Algum médico já lhe deu algum diagnóstico de outra doença crônica (física ou mental) ou doença de longa duração (de mais de 6 meses de duração)?                                                                                                                     0\n",
       "Quando ____ consultou um médico pela última vez                                                                                                                                                                                                                      0\n",
       "O(A) Sr(a) visita o médico/serviço de saúde regularmente por causa dessa doença mental ou só quando tem algum problema?                                                                                                                                              0\n",
       "Atualmente, o(a) Sr(a) fuma algum produto do tabaco?                                                                                                                                                                                                                 0\n",
       "Diagnóstico de TOC (Transtorno obsessivo compulsivo)                                                                                                                                                                                                                 0\n",
       "dtype: int64"
      ]
     },
     "execution_count": 22,
     "metadata": {},
     "output_type": "execute_result"
    }
   ],
   "source": [
    "df1.isnull().sum()"
   ]
  },
  {
   "cell_type": "code",
   "execution_count": 23,
   "metadata": {},
   "outputs": [],
   "source": [
    "df1.to_csv('pns-reduzido-2019-notnull-full.csv', index=False)\n"
   ]
  },
  {
   "cell_type": "code",
   "execution_count": 24,
   "metadata": {},
   "outputs": [
    {
     "data": {
      "text/plain": [
       "Unidade da Federação                                                                                                                                                                                                                                                 0\n",
       "Algum médico ou profissional de saúde (como psiquiatra ou psicólogo) já lhe deu o diagnóstico de outra doença mental, como transtorno de ansiedade, síndrome do pânico, esquizofrenia, transtorno bipolar, psicose ou TOC (Transtorno Obsessivo Compulsivo) etc?     0\n",
       "Em geral, em que grau essa doença mental limita as suas atividades habituais (tais como trabalhar, realizar afazeres domésticos etc.)?                                                                                                                               0\n",
       "Sexo                                                                                                                                                                                                                                                                 0\n",
       "Cor ou raça                                                                                                                                                                                                                                                          0\n",
       "De um modo geral, como é o estado de saúde de________                                                                                                                                                                                                                0\n",
       "Com que frequência o(a) Sr(a) costuma consumir alguma bebida alcoólica?                                                                                                                                                                                              0\n",
       "Ano de nascimento                                                                                                                                                                                                                                                    0\n",
       "Considerando saúde como um estado de bem-estar físico e mental, e não somente a ausência de doenças, como é o estado de saúde de _____________?                                                                                                                      0\n",
       "Algum médico já lhe deu algum diagnóstico de outra doença crônica (física ou mental) ou doença de longa duração (de mais de 6 meses de duração)?                                                                                                                     0\n",
       "Quando ____ consultou um médico pela última vez                                                                                                                                                                                                                      0\n",
       "O(A) Sr(a) visita o médico/serviço de saúde regularmente por causa dessa doença mental ou só quando tem algum problema?                                                                                                                                              0\n",
       "Atualmente, o(a) Sr(a) fuma algum produto do tabaco?                                                                                                                                                                                                                 0\n",
       "Diagnóstico de TOC (Transtorno obsessivo compulsivo)                                                                                                                                                                                                                 0\n",
       "dtype: int64"
      ]
     },
     "execution_count": 24,
     "metadata": {},
     "output_type": "execute_result"
    }
   ],
   "source": [
    "df1.isnull().sum()"
   ]
  },
  {
   "cell_type": "code",
   "execution_count": 25,
   "metadata": {},
   "outputs": [
    {
     "data": {
      "text/html": [
       "<div>\n",
       "<style scoped>\n",
       "    .dataframe tbody tr th:only-of-type {\n",
       "        vertical-align: middle;\n",
       "    }\n",
       "\n",
       "    .dataframe tbody tr th {\n",
       "        vertical-align: top;\n",
       "    }\n",
       "\n",
       "    .dataframe thead th {\n",
       "        text-align: right;\n",
       "    }\n",
       "</style>\n",
       "<table border=\"1\" class=\"dataframe\">\n",
       "  <thead>\n",
       "    <tr style=\"text-align: right;\">\n",
       "      <th></th>\n",
       "      <th>Unidade da Federação</th>\n",
       "      <th>Algum médico ou profissional de saúde (como psiquiatra ou psicólogo) já lhe deu o diagnóstico de outra doença mental, como transtorno de ansiedade, síndrome do pânico, esquizofrenia, transtorno bipolar, psicose ou TOC (Transtorno Obsessivo Compulsivo) etc?</th>\n",
       "      <th>Em geral, em que grau essa doença mental limita as suas atividades habituais (tais como trabalhar, realizar afazeres domésticos etc.)?</th>\n",
       "      <th>Sexo</th>\n",
       "      <th>Cor ou raça</th>\n",
       "      <th>De um modo geral, como é o estado de saúde de________</th>\n",
       "      <th>Com que frequência o(a) Sr(a) costuma consumir alguma bebida alcoólica?</th>\n",
       "      <th>Ano de nascimento</th>\n",
       "      <th>Considerando saúde como um estado de bem-estar físico e mental, e não somente a ausência de doenças, como é o estado de saúde de _____________?</th>\n",
       "      <th>Algum médico já lhe deu algum diagnóstico de outra doença crônica (física ou mental) ou doença de longa duração (de mais de 6 meses de duração)?</th>\n",
       "      <th>Quando ____ consultou um médico pela última vez</th>\n",
       "      <th>O(A) Sr(a) visita o médico/serviço de saúde regularmente por causa dessa doença mental ou só quando tem algum problema?</th>\n",
       "      <th>Atualmente, o(a) Sr(a) fuma algum produto do tabaco?</th>\n",
       "      <th>Diagnóstico de TOC (Transtorno obsessivo compulsivo)</th>\n",
       "    </tr>\n",
       "  </thead>\n",
       "  <tbody>\n",
       "    <tr>\n",
       "      <th>0</th>\n",
       "      <td>11</td>\n",
       "      <td>2.0</td>\n",
       "      <td>2.0</td>\n",
       "      <td>2.0</td>\n",
       "      <td>2.0</td>\n",
       "      <td>3.0</td>\n",
       "      <td>1.0</td>\n",
       "      <td>1964.0</td>\n",
       "      <td>1.0</td>\n",
       "      <td>2.0</td>\n",
       "      <td>1.0</td>\n",
       "      <td>2.0</td>\n",
       "      <td>3.0</td>\n",
       "      <td>1.0</td>\n",
       "    </tr>\n",
       "    <tr>\n",
       "      <th>1</th>\n",
       "      <td>11</td>\n",
       "      <td>2.0</td>\n",
       "      <td>2.0</td>\n",
       "      <td>2.0</td>\n",
       "      <td>1.0</td>\n",
       "      <td>2.0</td>\n",
       "      <td>1.0</td>\n",
       "      <td>1989.0</td>\n",
       "      <td>2.0</td>\n",
       "      <td>1.0</td>\n",
       "      <td>1.0</td>\n",
       "      <td>1.0</td>\n",
       "      <td>3.0</td>\n",
       "      <td>1.0</td>\n",
       "    </tr>\n",
       "    <tr>\n",
       "      <th>2</th>\n",
       "      <td>11</td>\n",
       "      <td>2.0</td>\n",
       "      <td>2.0</td>\n",
       "      <td>2.0</td>\n",
       "      <td>1.0</td>\n",
       "      <td>3.0</td>\n",
       "      <td>1.0</td>\n",
       "      <td>1954.0</td>\n",
       "      <td>3.0</td>\n",
       "      <td>1.0</td>\n",
       "      <td>1.0</td>\n",
       "      <td>1.0</td>\n",
       "      <td>3.0</td>\n",
       "      <td>2.0</td>\n",
       "    </tr>\n",
       "    <tr>\n",
       "      <th>3</th>\n",
       "      <td>11</td>\n",
       "      <td>2.0</td>\n",
       "      <td>2.0</td>\n",
       "      <td>1.0</td>\n",
       "      <td>1.0</td>\n",
       "      <td>1.0</td>\n",
       "      <td>1.0</td>\n",
       "      <td>1996.0</td>\n",
       "      <td>1.0</td>\n",
       "      <td>2.0</td>\n",
       "      <td>1.0</td>\n",
       "      <td>2.0</td>\n",
       "      <td>2.0</td>\n",
       "      <td>1.0</td>\n",
       "    </tr>\n",
       "    <tr>\n",
       "      <th>4</th>\n",
       "      <td>11</td>\n",
       "      <td>1.0</td>\n",
       "      <td>2.0</td>\n",
       "      <td>2.0</td>\n",
       "      <td>4.0</td>\n",
       "      <td>1.0</td>\n",
       "      <td>1.0</td>\n",
       "      <td>1942.0</td>\n",
       "      <td>1.0</td>\n",
       "      <td>1.0</td>\n",
       "      <td>1.0</td>\n",
       "      <td>2.0</td>\n",
       "      <td>3.0</td>\n",
       "      <td>1.0</td>\n",
       "    </tr>\n",
       "  </tbody>\n",
       "</table>\n",
       "</div>"
      ],
      "text/plain": [
       "   Unidade da Federação  \\\n",
       "0                    11   \n",
       "1                    11   \n",
       "2                    11   \n",
       "3                    11   \n",
       "4                    11   \n",
       "\n",
       "   Algum médico ou profissional de saúde (como psiquiatra ou psicólogo) já lhe deu o diagnóstico de outra doença mental, como transtorno de ansiedade, síndrome do pânico, esquizofrenia, transtorno bipolar, psicose ou TOC (Transtorno Obsessivo Compulsivo) etc?   \\\n",
       "0                                                2.0                                                                                                                                                                                                                   \n",
       "1                                                2.0                                                                                                                                                                                                                   \n",
       "2                                                2.0                                                                                                                                                                                                                   \n",
       "3                                                2.0                                                                                                                                                                                                                   \n",
       "4                                                1.0                                                                                                                                                                                                                   \n",
       "\n",
       "   Em geral, em que grau essa doença mental limita as suas atividades habituais (tais como trabalhar, realizar afazeres domésticos etc.)?   \\\n",
       "0                                                2.0                                                                                         \n",
       "1                                                2.0                                                                                         \n",
       "2                                                2.0                                                                                         \n",
       "3                                                2.0                                                                                         \n",
       "4                                                2.0                                                                                         \n",
       "\n",
       "   Sexo  Cor ou raça  De um modo geral, como é o estado de saúde de________  \\\n",
       "0   2.0          2.0                                                3.0       \n",
       "1   2.0          1.0                                                2.0       \n",
       "2   2.0          1.0                                                3.0       \n",
       "3   1.0          1.0                                                1.0       \n",
       "4   2.0          4.0                                                1.0       \n",
       "\n",
       "   Com que frequência o(a) Sr(a) costuma consumir alguma bebida alcoólica?  \\\n",
       "0                                                1.0                         \n",
       "1                                                1.0                         \n",
       "2                                                1.0                         \n",
       "3                                                1.0                         \n",
       "4                                                1.0                         \n",
       "\n",
       "   Ano de nascimento  \\\n",
       "0             1964.0   \n",
       "1             1989.0   \n",
       "2             1954.0   \n",
       "3             1996.0   \n",
       "4             1942.0   \n",
       "\n",
       "   Considerando saúde como um estado de bem-estar físico e mental, e não somente a ausência de doenças, como é o estado de saúde de _____________?   \\\n",
       "0                                                1.0                                                                                                  \n",
       "1                                                2.0                                                                                                  \n",
       "2                                                3.0                                                                                                  \n",
       "3                                                1.0                                                                                                  \n",
       "4                                                1.0                                                                                                  \n",
       "\n",
       "   Algum médico já lhe deu algum diagnóstico de outra doença crônica (física ou mental) ou doença de longa duração (de mais de 6 meses de duração)?   \\\n",
       "0                                                2.0                                                                                                   \n",
       "1                                                1.0                                                                                                   \n",
       "2                                                1.0                                                                                                   \n",
       "3                                                2.0                                                                                                   \n",
       "4                                                1.0                                                                                                   \n",
       "\n",
       "   Quando ____ consultou um médico pela última vez  \\\n",
       "0                                              1.0   \n",
       "1                                              1.0   \n",
       "2                                              1.0   \n",
       "3                                              1.0   \n",
       "4                                              1.0   \n",
       "\n",
       "   O(A) Sr(a) visita o médico/serviço de saúde regularmente por causa dessa doença mental ou só quando tem algum problema?  \\\n",
       "0                                                2.0                                                                         \n",
       "1                                                1.0                                                                         \n",
       "2                                                1.0                                                                         \n",
       "3                                                2.0                                                                         \n",
       "4                                                2.0                                                                         \n",
       "\n",
       "   Atualmente, o(a) Sr(a) fuma algum produto do tabaco?   \\\n",
       "0                                                3.0       \n",
       "1                                                3.0       \n",
       "2                                                3.0       \n",
       "3                                                2.0       \n",
       "4                                                3.0       \n",
       "\n",
       "   Diagnóstico de TOC (Transtorno obsessivo compulsivo)   \n",
       "0                                                1.0      \n",
       "1                                                1.0      \n",
       "2                                                2.0      \n",
       "3                                                1.0      \n",
       "4                                                1.0      "
      ]
     },
     "execution_count": 25,
     "metadata": {},
     "output_type": "execute_result"
    }
   ],
   "source": [
    "df1.head()"
   ]
  }
 ],
 "metadata": {
  "kernelspec": {
   "display_name": "Python 3",
   "language": "python",
   "name": "python3"
  },
  "language_info": {
   "codemirror_mode": {
    "name": "ipython",
    "version": 3
   },
   "file_extension": ".py",
   "mimetype": "text/x-python",
   "name": "python",
   "nbconvert_exporter": "python",
   "pygments_lexer": "ipython3",
   "version": "3.11.5"
  }
 },
 "nbformat": 4,
 "nbformat_minor": 2
}
