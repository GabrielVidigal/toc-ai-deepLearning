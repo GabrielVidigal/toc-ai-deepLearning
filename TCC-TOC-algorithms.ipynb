{
 "cells": [
  {
   "cell_type": "code",
   "execution_count": 24,
   "metadata": {},
   "outputs": [],
   "source": [
    "import pandas as pd\n",
    "import seaborn as srn\n",
    "import statistics as sts\n",
    "import numpy as np\n",
    "import datetime\n",
    "from sklearn.ensemble import RandomForestClassifier\n",
    "from sklearn.model_selection import train_test_split\n",
    "from sklearn.metrics import confusion_matrix, classification_report, accuracy_score\n",
    "from sklearn.ensemble import RandomForestClassifier\n",
    "from sklearn.model_selection import train_test_split\n",
    "from sklearn import model_selection"
   ]
  },
  {
   "cell_type": "code",
   "execution_count": 25,
   "metadata": {},
   "outputs": [],
   "source": [
    "df = pd.read_csv('pns-reduzido-2019-notnull-full.csv')"
   ]
  },
  {
   "cell_type": "code",
   "execution_count": 26,
   "metadata": {},
   "outputs": [],
   "source": [
    "indices = np.arange(len(df))\n",
    "np.random.shuffle(indices)\n",
    "df = df.iloc[indices]\n",
    "X = df.drop(columns=['Diagnóstico de TOC (Transtorno obsessivo compulsivo) '])\n",
    "Y = df['Diagnóstico de TOC (Transtorno obsessivo compulsivo) ']\n",
    "X_train, x_test, Y_train, y_test = train_test_split(X, Y, test_size=0.3, random_state=101)"
   ]
  },
  {
   "cell_type": "code",
   "execution_count": 27,
   "metadata": {},
   "outputs": [
    {
     "name": "stdout",
     "output_type": "stream",
     "text": [
      "[[ 846  262]\n",
      " [  65 1024]]\n",
      "              precision    recall  f1-score   support\n",
      "\n",
      "         0.0       0.93      0.76      0.84      1108\n",
      "         1.0       0.80      0.94      0.86      1089\n",
      "\n",
      "    accuracy                           0.85      2197\n",
      "   macro avg       0.86      0.85      0.85      2197\n",
      "weighted avg       0.86      0.85      0.85      2197\n",
      "\n"
     ]
    }
   ],
   "source": [
    "from sklearn.ensemble import RandomForestClassifier\n",
    "clf = RandomForestClassifier()\n",
    "clf.fit(X_train, Y_train)\n",
    "forest_pred = clf.predict(x_test)\n",
    "print(confusion_matrix(y_test, forest_pred))\n",
    "print(classification_report(y_test, forest_pred))\n"
   ]
  },
  {
   "cell_type": "markdown",
   "metadata": {},
   "source": [
    "## XG BOOST"
   ]
  },
  {
   "cell_type": "code",
   "execution_count": 28,
   "metadata": {},
   "outputs": [],
   "source": [
    "# Instalação de pacotes\n",
    "# !pip install tensorflow\n",
    "# !pip install xgboost\n",
    "\n",
    "import tensorflow as tf\n",
    "from xgboost import XGBClassifier\n",
    "from sklearn.model_selection import GridSearchCV\n",
    "from sklearn.model_selection import StratifiedKFold\n",
    "from sklearn.preprocessing import LabelEncoder\n"
   ]
  },
  {
   "cell_type": "code",
   "execution_count": 29,
   "metadata": {},
   "outputs": [],
   "source": [
    "# GridSearch como classificador\n",
    "model = XGBClassifier(\n",
    " learning_rate =1,\n",
    " min_child_weight=1,\n",
    " gamma=0,\n",
    " subsample=0.8,\n",
    " colsample_bytree=0.8,\n",
    " objective= 'binary:logistic',\n",
    " nthread=4,\n",
    " scale_pos_weight=1,\n",
    " seed=27)\n",
    "n_estimators = [100, 1000]\n",
    "max_depth = [1, 100]\n",
    "param_grid = dict(max_depth=max_depth, n_estimators=n_estimators)\n",
    "kfold = StratifiedKFold(n_splits=3, shuffle=True, random_state=7)\n",
    "grid_search = GridSearchCV(model, param_grid, scoring=\"roc_auc\", n_jobs=-1, cv=kfold, verbose=1)\n"
   ]
  },
  {
   "cell_type": "code",
   "execution_count": 30,
   "metadata": {},
   "outputs": [],
   "source": [
    "# Adaptação do dataset para ter valores 0 = red e 1 = white\n",
    "df['Diagnóstico de TOC (Transtorno obsessivo compulsivo) '].replace(('red', 'white'), (1, 0), inplace=True)\n",
    "\n",
    "seed = 42\n",
    "array = df.values\n",
    "test_size = 0.3\n"
   ]
  },
  {
   "cell_type": "code",
   "execution_count": 31,
   "metadata": {},
   "outputs": [
    {
     "name": "stdout",
     "output_type": "stream",
     "text": [
      "Fitting 3 folds for each of 4 candidates, totalling 12 fits\n"
     ]
    }
   ],
   "source": [
    "from sklearn.preprocessing import LabelEncoder\n",
    "\n",
    "\n",
    "grid_result = grid_search.fit(X, Y)"
   ]
  },
  {
   "cell_type": "code",
   "execution_count": 33,
   "metadata": {},
   "outputs": [
    {
     "name": "stdout",
     "output_type": "stream",
     "text": [
      "Best: 0.890114 using {'max_depth': 1, 'n_estimators': 100}\n",
      "0.890114 (0.006430) with: {'max_depth': 1, 'n_estimators': 100}\n",
      "0.889852 (0.007317) with: {'max_depth': 1, 'n_estimators': 1000}\n",
      "0.875721 (0.005548) with: {'max_depth': 100, 'n_estimators': 100}\n",
      "0.873000 (0.005466) with: {'max_depth': 100, 'n_estimators': 1000}\n"
     ]
    },
    {
     "data": {
      "image/png": "[encoded data removed]",
      "text/plain": [
       "<Figure size 640x480 with 1 Axes>"
      ]
     },
     "metadata": {},
     "output_type": "display_data"
    }
   ],
   "source": [
    "import matplotlib.pyplot as plt\n",
    "# Exibição dos resultados\n",
    "print(\"Best: %f using %s\" % (grid_result.best_score_, grid_result.best_params_))\n",
    "means = grid_result.cv_results_['mean_test_score']\n",
    "stds = grid_result.cv_results_['std_test_score']\n",
    "params = grid_result.cv_results_['params']\n",
    "\n",
    "for mean, stdev, param in zip(means, stds, params):\n",
    "    print(\"%f (%f) with: %r\" % (mean, stdev, param))\n",
    "\n",
    "# Plota os resultados\n",
    "scores = np.array(means).reshape(len(max_depth), len(n_estimators))\n",
    "for i, value in enumerate(max_depth):\n",
    "    plt.plot(n_estimators, scores[i], label='depth: ' + str(value))\n",
    "plt.legend()\n",
    "plt.xlabel('n_estimators')\n",
    "plt.ylabel('Log Loss')\n",
    "plt.show()\n"
   ]
  },
  {
   "cell_type": "markdown",
   "metadata": {},
   "source": [
    "## Estudando rede neural e fazendo testes com a biblioteca keras"
   ]
  },
  {
   "cell_type": "code",
   "execution_count": 36,
   "metadata": {},
   "outputs": [
    {
     "name": "stdout",
     "output_type": "stream",
     "text": [
      "Epoch 1/100\n",
      "161/161 [==============================] - 3s 9ms/step - loss: 1.2426 - accuracy: 0.5733 - val_loss: 0.6866 - val_accuracy: 0.5680\n",
      "Epoch 2/100\n",
      "161/161 [==============================] - 1s 6ms/step - loss: 0.7540 - accuracy: 0.6230 - val_loss: 0.5431 - val_accuracy: 0.6718\n",
      "Epoch 3/100\n",
      "161/161 [==============================] - 1s 6ms/step - loss: 0.6535 - accuracy: 0.6638 - val_loss: 0.4832 - val_accuracy: 0.7533\n",
      "Epoch 4/100\n",
      "161/161 [==============================] - 2s 16ms/step - loss: 0.7053 - accuracy: 0.6702 - val_loss: 1.4772 - val_accuracy: 0.5430\n",
      "Epoch 5/100\n",
      "161/161 [==============================] - 2s 13ms/step - loss: 0.5629 - accuracy: 0.7268 - val_loss: 2.2008 - val_accuracy: 0.4975\n",
      "Epoch 6/100\n",
      "161/161 [==============================] - 2s 11ms/step - loss: 0.9825 - accuracy: 0.6486 - val_loss: 0.7265 - val_accuracy: 0.5826\n",
      "Epoch 7/100\n",
      "161/161 [==============================] - 3s 16ms/step - loss: 0.6315 - accuracy: 0.7294 - val_loss: 0.4803 - val_accuracy: 0.7424\n",
      "Epoch 8/100\n",
      "161/161 [==============================] - 2s 11ms/step - loss: 0.8314 - accuracy: 0.6845 - val_loss: 0.9134 - val_accuracy: 0.6823\n",
      "Epoch 9/100\n",
      "161/161 [==============================] - 4s 24ms/step - loss: 0.6193 - accuracy: 0.7487 - val_loss: 0.7285 - val_accuracy: 0.7474\n",
      "Epoch 10/100\n",
      "161/161 [==============================] - 2s 11ms/step - loss: 0.5848 - accuracy: 0.7524 - val_loss: 1.2049 - val_accuracy: 0.5139\n",
      "Epoch 11/100\n",
      "161/161 [==============================] - 2s 13ms/step - loss: 0.7062 - accuracy: 0.7241 - val_loss: 1.1996 - val_accuracy: 0.6331\n",
      "Epoch 12/100\n",
      "161/161 [==============================] - 4s 24ms/step - loss: 0.6691 - accuracy: 0.7311 - val_loss: 0.5517 - val_accuracy: 0.6946\n",
      "Epoch 13/100\n",
      "161/161 [==============================] - 2s 13ms/step - loss: 0.5866 - accuracy: 0.7530 - val_loss: 0.4956 - val_accuracy: 0.7510\n",
      "Epoch 14/100\n",
      "161/161 [==============================] - 2s 13ms/step - loss: 0.6813 - accuracy: 0.7307 - val_loss: 1.1208 - val_accuracy: 0.6568\n",
      "Epoch 15/100\n",
      "161/161 [==============================] - 2s 10ms/step - loss: 0.7374 - accuracy: 0.7208 - val_loss: 0.4692 - val_accuracy: 0.7797\n",
      "Epoch 16/100\n",
      "161/161 [==============================] - 2s 14ms/step - loss: 0.6221 - accuracy: 0.7440 - val_loss: 1.4009 - val_accuracy: 0.5102\n",
      "Epoch 17/100\n",
      "161/161 [==============================] - 2s 12ms/step - loss: 0.6269 - accuracy: 0.7594 - val_loss: 0.5288 - val_accuracy: 0.8120\n",
      "Epoch 18/100\n",
      "161/161 [==============================] - 2s 14ms/step - loss: 0.5865 - accuracy: 0.7567 - val_loss: 0.5029 - val_accuracy: 0.8216\n",
      "Epoch 19/100\n",
      "161/161 [==============================] - 2s 13ms/step - loss: 0.6302 - accuracy: 0.7436 - val_loss: 0.5127 - val_accuracy: 0.8170\n",
      "Epoch 20/100\n",
      "161/161 [==============================] - 2s 14ms/step - loss: 0.7067 - accuracy: 0.7124 - val_loss: 0.4353 - val_accuracy: 0.8257\n",
      "Epoch 21/100\n",
      "161/161 [==============================] - 2s 14ms/step - loss: 0.4913 - accuracy: 0.7815 - val_loss: 0.6190 - val_accuracy: 0.7797\n",
      "Epoch 22/100\n",
      "161/161 [==============================] - 2s 13ms/step - loss: 0.5420 - accuracy: 0.7614 - val_loss: 0.4369 - val_accuracy: 0.8120\n",
      "Epoch 23/100\n",
      "161/161 [==============================] - 2s 13ms/step - loss: 0.5361 - accuracy: 0.7655 - val_loss: 0.6753 - val_accuracy: 0.7651\n",
      "Epoch 24/100\n",
      "161/161 [==============================] - 2s 10ms/step - loss: 0.5274 - accuracy: 0.7727 - val_loss: 0.5166 - val_accuracy: 0.8107\n",
      "Epoch 25/100\n",
      "161/161 [==============================] - 3s 16ms/step - loss: 0.5800 - accuracy: 0.7580 - val_loss: 0.4800 - val_accuracy: 0.7720\n",
      "Epoch 26/100\n",
      "161/161 [==============================] - 2s 10ms/step - loss: 0.5858 - accuracy: 0.7532 - val_loss: 1.0497 - val_accuracy: 0.5239\n",
      "Epoch 27/100\n",
      "161/161 [==============================] - 2s 12ms/step - loss: 0.7915 - accuracy: 0.7136 - val_loss: 0.7926 - val_accuracy: 0.5904\n",
      "Epoch 28/100\n",
      "161/161 [==============================] - 2s 14ms/step - loss: 0.5301 - accuracy: 0.7735 - val_loss: 1.8782 - val_accuracy: 0.5043\n",
      "Epoch 29/100\n",
      "161/161 [==============================] - 2s 10ms/step - loss: 0.6512 - accuracy: 0.7553 - val_loss: 0.6527 - val_accuracy: 0.7838\n",
      "Epoch 30/100\n",
      "161/161 [==============================] - 2s 16ms/step - loss: 0.6756 - accuracy: 0.7335 - val_loss: 0.4643 - val_accuracy: 0.7952\n",
      "Epoch 31/100\n",
      "161/161 [==============================] - 2s 13ms/step - loss: 0.6132 - accuracy: 0.7596 - val_loss: 0.4537 - val_accuracy: 0.7952\n",
      "Epoch 32/100\n",
      "161/161 [==============================] - 3s 17ms/step - loss: 0.5632 - accuracy: 0.7713 - val_loss: 2.3935 - val_accuracy: 0.5471\n",
      "Epoch 33/100\n",
      "161/161 [==============================] - 2s 12ms/step - loss: 0.7349 - accuracy: 0.7522 - val_loss: 0.4809 - val_accuracy: 0.7788\n",
      "Epoch 34/100\n",
      "161/161 [==============================] - 2s 12ms/step - loss: 0.5803 - accuracy: 0.7705 - val_loss: 0.5909 - val_accuracy: 0.7984\n",
      "Epoch 35/100\n",
      "161/161 [==============================] - 3s 17ms/step - loss: 0.5146 - accuracy: 0.7908 - val_loss: 0.7433 - val_accuracy: 0.7701\n",
      "Epoch 36/100\n",
      "161/161 [==============================] - 2s 13ms/step - loss: 0.5991 - accuracy: 0.7692 - val_loss: 0.4622 - val_accuracy: 0.8334\n",
      "Epoch 37/100\n",
      "161/161 [==============================] - 2s 14ms/step - loss: 0.6192 - accuracy: 0.7524 - val_loss: 0.6017 - val_accuracy: 0.7975\n",
      "Epoch 38/100\n",
      "161/161 [==============================] - 2s 12ms/step - loss: 0.5436 - accuracy: 0.7850 - val_loss: 0.6803 - val_accuracy: 0.6463\n",
      "Epoch 39/100\n",
      "161/161 [==============================] - 2s 12ms/step - loss: 0.5006 - accuracy: 0.7910 - val_loss: 0.7876 - val_accuracy: 0.5894\n",
      "Epoch 40/100\n",
      "161/161 [==============================] - 3s 17ms/step - loss: 0.7276 - accuracy: 0.7339 - val_loss: 0.5345 - val_accuracy: 0.8161\n",
      "Epoch 41/100\n",
      "161/161 [==============================] - 2s 13ms/step - loss: 0.6132 - accuracy: 0.7602 - val_loss: 3.1383 - val_accuracy: 0.5171\n",
      "Epoch 42/100\n",
      "161/161 [==============================] - 2s 11ms/step - loss: 0.7340 - accuracy: 0.7489 - val_loss: 0.4591 - val_accuracy: 0.8257\n",
      "Epoch 43/100\n",
      "161/161 [==============================] - 2s 14ms/step - loss: 0.5315 - accuracy: 0.7879 - val_loss: 0.4478 - val_accuracy: 0.8020\n",
      "Epoch 44/100\n",
      "161/161 [==============================] - 2s 11ms/step - loss: 0.4784 - accuracy: 0.8020 - val_loss: 0.4696 - val_accuracy: 0.8239\n",
      "Epoch 45/100\n",
      "161/161 [==============================] - 2s 10ms/step - loss: 0.6031 - accuracy: 0.7666 - val_loss: 1.1992 - val_accuracy: 0.6973\n",
      "Epoch 46/100\n",
      "161/161 [==============================] - 2s 14ms/step - loss: 0.5660 - accuracy: 0.7748 - val_loss: 0.7920 - val_accuracy: 0.5867\n",
      "Epoch 47/100\n",
      "161/161 [==============================] - 1s 9ms/step - loss: 0.5566 - accuracy: 0.7772 - val_loss: 0.4734 - val_accuracy: 0.7811\n",
      "Epoch 48/100\n",
      "161/161 [==============================] - 3s 18ms/step - loss: 0.5601 - accuracy: 0.7789 - val_loss: 0.4741 - val_accuracy: 0.8193\n",
      "Epoch 49/100\n",
      "161/161 [==============================] - 2s 15ms/step - loss: 0.4828 - accuracy: 0.7957 - val_loss: 0.7279 - val_accuracy: 0.7556\n",
      "Epoch 50/100\n",
      "161/161 [==============================] - 3s 16ms/step - loss: 0.6406 - accuracy: 0.7393 - val_loss: 0.5027 - val_accuracy: 0.7506\n",
      "Epoch 51/100\n",
      "161/161 [==============================] - 2s 14ms/step - loss: 0.5026 - accuracy: 0.7817 - val_loss: 0.4574 - val_accuracy: 0.7929\n",
      "Epoch 52/100\n",
      "161/161 [==============================] - 3s 18ms/step - loss: 0.5725 - accuracy: 0.7737 - val_loss: 2.0427 - val_accuracy: 0.5043\n",
      "Epoch 53/100\n",
      "161/161 [==============================] - 2s 14ms/step - loss: 0.5553 - accuracy: 0.7830 - val_loss: 0.5184 - val_accuracy: 0.8184\n",
      "Epoch 54/100\n",
      "161/161 [==============================] - 2s 15ms/step - loss: 0.5137 - accuracy: 0.7922 - val_loss: 0.9543 - val_accuracy: 0.5366\n",
      "Epoch 55/100\n",
      "161/161 [==============================] - 2s 13ms/step - loss: 0.5620 - accuracy: 0.7750 - val_loss: 0.8572 - val_accuracy: 0.7592\n",
      "Epoch 56/100\n",
      "161/161 [==============================] - 3s 17ms/step - loss: 0.5267 - accuracy: 0.7877 - val_loss: 0.5426 - val_accuracy: 0.8084\n",
      "Epoch 57/100\n",
      "161/161 [==============================] - 2s 12ms/step - loss: 0.5162 - accuracy: 0.7875 - val_loss: 0.4506 - val_accuracy: 0.8029\n",
      "Epoch 58/100\n",
      "161/161 [==============================] - 2s 14ms/step - loss: 0.5156 - accuracy: 0.7895 - val_loss: 0.4910 - val_accuracy: 0.7497\n",
      "Epoch 59/100\n",
      "161/161 [==============================] - 1s 9ms/step - loss: 0.4906 - accuracy: 0.7949 - val_loss: 0.8346 - val_accuracy: 0.5444\n",
      "Epoch 60/100\n",
      "161/161 [==============================] - 1s 8ms/step - loss: 0.5013 - accuracy: 0.7961 - val_loss: 0.5586 - val_accuracy: 0.8170\n",
      "Epoch 61/100\n",
      "161/161 [==============================] - 2s 12ms/step - loss: 0.5506 - accuracy: 0.7746 - val_loss: 1.0058 - val_accuracy: 0.5134\n",
      "Epoch 62/100\n",
      "161/161 [==============================] - 2s 11ms/step - loss: 0.5270 - accuracy: 0.7891 - val_loss: 0.5769 - val_accuracy: 0.7274\n",
      "Epoch 63/100\n",
      "161/161 [==============================] - 2s 15ms/step - loss: 0.4829 - accuracy: 0.8047 - val_loss: 0.4426 - val_accuracy: 0.8266\n",
      "Epoch 64/100\n",
      "161/161 [==============================] - 2s 11ms/step - loss: 0.5391 - accuracy: 0.7863 - val_loss: 0.4816 - val_accuracy: 0.8198\n",
      "Epoch 65/100\n",
      "161/161 [==============================] - 3s 16ms/step - loss: 0.5237 - accuracy: 0.7875 - val_loss: 0.5097 - val_accuracy: 0.7906\n",
      "Epoch 66/100\n",
      "161/161 [==============================] - 2s 15ms/step - loss: 0.4822 - accuracy: 0.8004 - val_loss: 0.5069 - val_accuracy: 0.8188\n",
      "Epoch 67/100\n",
      "161/161 [==============================] - 3s 16ms/step - loss: 0.4416 - accuracy: 0.8117 - val_loss: 0.4082 - val_accuracy: 0.8393\n",
      "Epoch 68/100\n",
      "161/161 [==============================] - 2s 13ms/step - loss: 0.5110 - accuracy: 0.7895 - val_loss: 0.9926 - val_accuracy: 0.5066\n",
      "Epoch 69/100\n",
      "161/161 [==============================] - 1s 8ms/step - loss: 0.5244 - accuracy: 0.7887 - val_loss: 0.4149 - val_accuracy: 0.8352\n",
      "Epoch 70/100\n",
      "161/161 [==============================] - 2s 15ms/step - loss: 0.4609 - accuracy: 0.8103 - val_loss: 0.7454 - val_accuracy: 0.7565\n",
      "Epoch 71/100\n",
      "161/161 [==============================] - 1s 8ms/step - loss: 0.4865 - accuracy: 0.8006 - val_loss: 0.5069 - val_accuracy: 0.7087\n",
      "Epoch 72/100\n",
      "161/161 [==============================] - 3s 16ms/step - loss: 0.5044 - accuracy: 0.7934 - val_loss: 0.9227 - val_accuracy: 0.5453\n",
      "Epoch 73/100\n",
      "161/161 [==============================] - 2s 12ms/step - loss: 0.5154 - accuracy: 0.7906 - val_loss: 0.5024 - val_accuracy: 0.7874\n",
      "Epoch 74/100\n",
      "161/161 [==============================] - 2s 14ms/step - loss: 0.4853 - accuracy: 0.7897 - val_loss: 0.4725 - val_accuracy: 0.7979\n",
      "Epoch 75/100\n",
      "161/161 [==============================] - 2s 15ms/step - loss: 0.4739 - accuracy: 0.7979 - val_loss: 0.9168 - val_accuracy: 0.5744\n",
      "Epoch 76/100\n",
      "161/161 [==============================] - 2s 10ms/step - loss: 0.5560 - accuracy: 0.7834 - val_loss: 0.9021 - val_accuracy: 0.5066\n",
      "Epoch 77/100\n",
      "161/161 [==============================] - 1s 8ms/step - loss: 0.4546 - accuracy: 0.8129 - val_loss: 0.4150 - val_accuracy: 0.8266\n",
      "Epoch 78/100\n",
      "161/161 [==============================] - 2s 13ms/step - loss: 0.4998 - accuracy: 0.7953 - val_loss: 0.5774 - val_accuracy: 0.8079\n",
      "Epoch 79/100\n",
      "161/161 [==============================] - 3s 20ms/step - loss: 0.4227 - accuracy: 0.8250 - val_loss: 0.3995 - val_accuracy: 0.8325\n",
      "Epoch 80/100\n",
      "161/161 [==============================] - 2s 12ms/step - loss: 0.4337 - accuracy: 0.8160 - val_loss: 0.4165 - val_accuracy: 0.8134\n",
      "Epoch 81/100\n",
      "161/161 [==============================] - 2s 13ms/step - loss: 0.4705 - accuracy: 0.7982 - val_loss: 0.6589 - val_accuracy: 0.7806\n",
      "Epoch 82/100\n",
      "161/161 [==============================] - 2s 12ms/step - loss: 0.4790 - accuracy: 0.8014 - val_loss: 0.4322 - val_accuracy: 0.8430\n",
      "Epoch 83/100\n",
      "161/161 [==============================] - 2s 10ms/step - loss: 0.4909 - accuracy: 0.7953 - val_loss: 1.9493 - val_accuracy: 0.5043\n",
      "Epoch 84/100\n",
      "161/161 [==============================] - 3s 17ms/step - loss: 0.6407 - accuracy: 0.7893 - val_loss: 0.5159 - val_accuracy: 0.8220\n",
      "Epoch 85/100\n",
      "161/161 [==============================] - 3s 17ms/step - loss: 0.5514 - accuracy: 0.7891 - val_loss: 0.4897 - val_accuracy: 0.8311\n",
      "Epoch 86/100\n",
      "161/161 [==============================] - 3s 17ms/step - loss: 0.5255 - accuracy: 0.7865 - val_loss: 0.4531 - val_accuracy: 0.8225\n",
      "Epoch 87/100\n",
      "161/161 [==============================] - 2s 14ms/step - loss: 0.4691 - accuracy: 0.7965 - val_loss: 0.4438 - val_accuracy: 0.8357\n",
      "Epoch 88/100\n",
      "161/161 [==============================] - 2s 15ms/step - loss: 0.5039 - accuracy: 0.7795 - val_loss: 0.5127 - val_accuracy: 0.7997\n",
      "Epoch 89/100\n",
      "161/161 [==============================] - 2s 11ms/step - loss: 0.5124 - accuracy: 0.7801 - val_loss: 0.4357 - val_accuracy: 0.8270\n",
      "Epoch 90/100\n",
      "161/161 [==============================] - 2s 15ms/step - loss: 0.4551 - accuracy: 0.8105 - val_loss: 0.4635 - val_accuracy: 0.8170\n",
      "Epoch 91/100\n",
      "161/161 [==============================] - 2s 13ms/step - loss: 0.4416 - accuracy: 0.8129 - val_loss: 0.5321 - val_accuracy: 0.7169\n",
      "Epoch 92/100\n",
      "161/161 [==============================] - 3s 19ms/step - loss: 0.4347 - accuracy: 0.8152 - val_loss: 0.4457 - val_accuracy: 0.8229\n",
      "Epoch 93/100\n",
      "161/161 [==============================] - 3s 16ms/step - loss: 0.4047 - accuracy: 0.8316 - val_loss: 0.6951 - val_accuracy: 0.5189\n",
      "Epoch 94/100\n",
      "161/161 [==============================] - 3s 17ms/step - loss: 0.4588 - accuracy: 0.7912 - val_loss: 0.4523 - val_accuracy: 0.8375\n",
      "Epoch 95/100\n",
      "161/161 [==============================] - 2s 13ms/step - loss: 0.4369 - accuracy: 0.8162 - val_loss: 0.4198 - val_accuracy: 0.8421\n",
      "Epoch 96/100\n",
      "161/161 [==============================] - 2s 13ms/step - loss: 0.4591 - accuracy: 0.8010 - val_loss: 0.4246 - val_accuracy: 0.8070\n",
      "Epoch 97/100\n",
      "161/161 [==============================] - 2s 11ms/step - loss: 0.4262 - accuracy: 0.8195 - val_loss: 0.4600 - val_accuracy: 0.8202\n",
      "Epoch 98/100\n",
      "161/161 [==============================] - 2s 11ms/step - loss: 0.4897 - accuracy: 0.7881 - val_loss: 0.4499 - val_accuracy: 0.8220\n",
      "Epoch 99/100\n",
      "161/161 [==============================] - 2s 12ms/step - loss: 0.4259 - accuracy: 0.8197 - val_loss: 0.5770 - val_accuracy: 0.6609\n",
      "Epoch 100/100\n",
      "161/161 [==============================] - 2s 14ms/step - loss: 0.4333 - accuracy: 0.8146 - val_loss: 0.4434 - val_accuracy: 0.8179\n"
     ]
    },
    {
     "data": {
      "text/plain": [
       "<keras.src.callbacks.History at 0x2c1aedaedd0>"
      ]
     },
     "execution_count": 36,
     "metadata": {},
     "output_type": "execute_result"
    }
   ],
   "source": [
    "import pandas as pd\n",
    "import numpy as np\n",
    "from sklearn.model_selection import train_test_split\n",
    "from tensorflow.keras.models import Sequential\n",
    "from tensorflow.keras.layers import Dense\n",
    "from sklearn.preprocessing import LabelEncoder\n",
    "\n",
    "label_encoder = LabelEncoder()\n",
    "df['Sexo'] = label_encoder.fit_transform(df['Sexo'])\n",
    "df['Cor ou raça'] = label_encoder.fit_transform(df['Cor ou raça'])\n",
    "\n",
    "# Crie o modelo da rede neural\n",
    "model = tf.keras.Sequential([\n",
    "    tf.keras.layers.Dense(64, activation='relu', input_shape=(X_train.shape[1],)),\n",
    "    tf.keras.layers.Dense(32, activation='relu'),\n",
    "    tf.keras.layers.Dense(1, activation='sigmoid')\n",
    "])  # Camada de saída com 1 neurônio (para classificação binária)\n",
    "\n",
    "# Compile o modelo\n",
    "model.compile(optimizer='adam', loss='binary_crossentropy', metrics=['accuracy'])\n",
    "\n",
    "# Treine o modelo\n",
    "model.fit(X_train, Y_train, epochs=100, batch_size=32, validation_data=(x_test, y_test))"
   ]
  }
 ],
 "metadata": {
  "kernelspec": {
   "display_name": "Python 3",
   "language": "python",
   "name": "python3"
  },
  "language_info": {
   "codemirror_mode": {
    "name": "ipython",
    "version": 3
   },
   "file_extension": ".py",
   "mimetype": "text/x-python",
   "name": "python",
   "nbconvert_exporter": "python",
   "pygments_lexer": "ipython3",
   "version": "3.10.9"
  },
  "orig_nbformat": 4
 },
 "nbformat": 4,
 "nbformat_minor": 2
}
