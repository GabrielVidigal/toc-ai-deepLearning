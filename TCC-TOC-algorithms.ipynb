{
 "cells": [
  {
   "cell_type": "code",
   "execution_count": 73,
   "metadata": {},
   "outputs": [],
   "source": [
    "import pandas as pd\n",
    "import seaborn as srn\n",
    "import statistics as sts\n",
    "import numpy as np\n",
    "import datetime\n",
    "from sklearn.ensemble import RandomForestClassifier\n",
    "from sklearn.model_selection import train_test_split\n",
    "from sklearn.metrics import confusion_matrix, classification_report, accuracy_score\n",
    "from sklearn.ensemble import RandomForestClassifier\n",
    "from sklearn.model_selection import train_test_split\n",
    "from sklearn import model_selection"
   ]
  },
  {
   "cell_type": "code",
   "execution_count": 74,
   "metadata": {},
   "outputs": [],
   "source": [
    "df = pd.read_csv('df-balanceado.csv')"
   ]
  },
  {
   "cell_type": "code",
   "execution_count": 75,
   "metadata": {},
   "outputs": [],
   "source": [
    "x = df[['Algum médico ou profissional de saúde (como psiquiatra ou psicólogo) já lhe deu o diagnóstico de outra doença mental, como transtorno de ansiedade, síndrome do pânico, esquizofrenia, transtorno bipolar, psicose ou TOC (Transtorno Obsessivo Compulsivo) etc? ', 'Sexo', 'Cor ou raça']]\n",
    "y = df['Diagnóstico de TOC (Transtorno obsessivo compulsivo) ' ]"
   ]
  },
  {
   "cell_type": "code",
   "execution_count": 76,
   "metadata": {},
   "outputs": [],
   "source": [
    "x_train, x_test, y_train, y_test = train_test_split(x, y, test_size=0.3, random_state=101)"
   ]
  },
  {
   "cell_type": "code",
   "execution_count": 77,
   "metadata": {},
   "outputs": [
    {
     "data": {
      "text/plain": [
       "2054    1.0\n",
       "282     1.0\n",
       "4886    2.0\n",
       "2567    1.0\n",
       "4311    1.0\n",
       "Name: Diagnóstico de TOC (Transtorno obsessivo compulsivo) , dtype: float64"
      ]
     },
     "execution_count": 77,
     "metadata": {},
     "output_type": "execute_result"
    }
   ],
   "source": [
    "y_train.head()"
   ]
  },
  {
   "cell_type": "code",
   "execution_count": 78,
   "metadata": {},
   "outputs": [
    {
     "name": "stdout",
     "output_type": "stream",
     "text": [
      "<class 'pandas.core.frame.DataFrame'>\n",
      "Int64Index: 1770 entries, 4613 to 5012\n",
      "Data columns (total 3 columns):\n",
      " #   Column                                                                                                                                                                                                                                                             Non-Null Count  Dtype  \n",
      "---  ------                                                                                                                                                                                                                                                             --------------  -----  \n",
      " 0   Algum médico ou profissional de saúde (como psiquiatra ou psicólogo) já lhe deu o diagnóstico de outra doença mental, como transtorno de ansiedade, síndrome do pânico, esquizofrenia, transtorno bipolar, psicose ou TOC (Transtorno Obsessivo Compulsivo) etc?   1770 non-null   float64\n",
      " 1   Sexo                                                                                                                                                                                                                                                               1770 non-null   float64\n",
      " 2   Cor ou raça                                                                                                                                                                                                                                                        1770 non-null   float64\n",
      "dtypes: float64(3)\n",
      "memory usage: 55.3 KB\n"
     ]
    }
   ],
   "source": [
    "x_test.info()"
   ]
  },
  {
   "cell_type": "code",
   "execution_count": 79,
   "metadata": {},
   "outputs": [],
   "source": [
    "from sklearn.ensemble import RandomForestClassifier\n",
    "clf = RandomForestClassifier()\n",
    "clf.fit(x_train, y_train)\n",
    "forest_pred = clf.predict(x_test)"
   ]
  },
  {
   "cell_type": "code",
   "execution_count": 80,
   "metadata": {},
   "outputs": [
    {
     "name": "stdout",
     "output_type": "stream",
     "text": [
      "[[1087   13]\n",
      " [ 517  153]]\n",
      "              precision    recall  f1-score   support\n",
      "\n",
      "         1.0       0.68      0.99      0.80      1100\n",
      "         2.0       0.92      0.23      0.37       670\n",
      "\n",
      "    accuracy                           0.70      1770\n",
      "   macro avg       0.80      0.61      0.59      1770\n",
      "weighted avg       0.77      0.70      0.64      1770\n",
      "\n"
     ]
    }
   ],
   "source": [
    "print(confusion_matrix(y_test, forest_pred))\n",
    "print(classification_report(y_test, forest_pred))"
   ]
  },
  {
   "cell_type": "markdown",
   "metadata": {},
   "source": [
    "## XG BOOST"
   ]
  },
  {
   "cell_type": "code",
   "execution_count": 81,
   "metadata": {},
   "outputs": [],
   "source": [
    "# !pip install tensorflow\n",
    "# !pip install xgboost\n",
    "\n",
    "import tensorflow as tf\n",
    "#tf.Session(config=tf.ConfigProto(log_device_placement=True))\n",
    "from xgboost import XGBClassifier\n",
    "from xgboost import XGBRegressor\n",
    "from sklearn.model_selection import GridSearchCV\n",
    "from sklearn.model_selection import StratifiedKFold\n",
    "from sklearn.preprocessing import LabelEncoder"
   ]
  },
  {
   "cell_type": "code",
   "execution_count": 82,
   "metadata": {},
   "outputs": [],
   "source": [
    "# GridSearch como classificador\n",
    "\n",
    "model = XGBClassifier(\n",
    " learning_rate =1,\n",
    " min_child_weight=1,\n",
    " gamma=0,\n",
    " subsample=0.8,\n",
    " colsample_bytree=0.8,\n",
    " objective= 'binary:logistic',\n",
    " nthread=4,\n",
    " scale_pos_weight=1,\n",
    " seed=27)\n",
    "n_estimators = [100, 1000]\n",
    "max_depth = [1, 100]\n",
    "param_grid = dict(max_depth=max_depth, n_estimators=n_estimators)\n",
    "kfold = StratifiedKFold(n_splits=3, shuffle=True, random_state=7)\n",
    "grid_search = GridSearchCV(model, param_grid, scoring=\"roc_auc\", n_jobs=-1, cv=kfold, verbose=1)"
   ]
  },
  {
   "cell_type": "code",
   "execution_count": 83,
   "metadata": {},
   "outputs": [],
   "source": [
    "# Adaptação do dataset para ter valores 0 = red e 1 = white\n",
    "\n",
    "df['Diagnóstico de TOC (Transtorno obsessivo compulsivo) ' ].replace(('red', 'white'), (1, 0), inplace=True)\n",
    "\n",
    "seed = 42 # Para que a separação dos dados ocorra sempre a partir da mesma semente (seed), e seja reproduzível em qualquer execução\n",
    "array = df.values\n",
    "\n",
    "X = df[['Algum médico ou profissional de saúde (como psiquiatra ou psicólogo) já lhe deu o diagnóstico de outra doença mental, como transtorno de ansiedade, síndrome do pânico, esquizofrenia, transtorno bipolar, psicose ou TOC (Transtorno Obsessivo Compulsivo) etc? ', 'Sexo', 'Cor ou raça']]\n",
    "Y = df['Diagnóstico de TOC (Transtorno obsessivo compulsivo) ' ]\n",
    "\n",
    "test_size = 0.3 # Tamanho do conjunto de teste\n",
    "X_train, X_test, Y_train, Y_test = model_selection.train_test_split(X, Y, test_size=test_size, random_state=seed)"
   ]
  },
  {
   "cell_type": "code",
   "execution_count": 84,
   "metadata": {},
   "outputs": [
    {
     "name": "stdout",
     "output_type": "stream",
     "text": [
      "Fitting 3 folds for each of 4 candidates, totalling 12 fits\n"
     ]
    }
   ],
   "source": [
    "from sklearn.preprocessing import LabelEncoder\n",
    "\n",
    "label_encoder = LabelEncoder()\n",
    "Y = label_encoder.fit_transform(y)\n",
    "# Ajuste do modelo\n",
    "\n",
    "grid_result = grid_search.fit(X, Y)"
   ]
  },
  {
   "cell_type": "code",
   "execution_count": 85,
   "metadata": {},
   "outputs": [
    {
     "name": "stdout",
     "output_type": "stream",
     "text": [
      "Best: 0.595347 using {'max_depth': 100, 'n_estimators': 100}\n",
      "0.590486 (0.000447) with: {'max_depth': 1, 'n_estimators': 100}\n",
      "0.594797 (0.002770) with: {'max_depth': 1, 'n_estimators': 1000}\n",
      "0.595347 (0.004111) with: {'max_depth': 100, 'n_estimators': 100}\n",
      "0.593071 (0.010329) with: {'max_depth': 100, 'n_estimators': 1000}\n"
     ]
    },
    {
     "data": {
      "image/png": "[encoded data removed]",
      "text/plain": [
       "<Figure size 640x480 with 1 Axes>"
      ]
     },
     "metadata": {},
     "output_type": "display_data"
    }
   ],
   "source": [
    "# Resultados\n",
    "\n",
    "import matplotlib.pyplot as plt\n",
    "#matplotlib.use('Agg')\n",
    "\n",
    "print(\"Best: %f using %s\" % (grid_result.best_score_, grid_result.best_params_))\n",
    "means = grid_result.cv_results_['mean_test_score']\n",
    "stds = grid_result.cv_results_['std_test_score']\n",
    "params = grid_result.cv_results_['params']\n",
    "for mean, stdev, param in zip(means, stds, params):\n",
    "\tprint(\"%f (%f) with: %r\" % (mean, stdev, param))\n",
    "\n",
    "# Plota os resultados\n",
    "\n",
    "scores = np.array(means).reshape(len(max_depth), len(n_estimators))\n",
    "for i, value in enumerate(max_depth):\n",
    "    plt.plot(n_estimators, scores[i], label='depth: ' + str(value))\n",
    "plt.legend()\n",
    "plt.xlabel('n_estimators')\n",
    "plt.ylabel('Log Loss')\n",
    "#plt.savefig('n_estimators_vs_max_depth.png')\n",
    "plt.show()"
   ]
  },
  {
   "cell_type": "markdown",
   "metadata": {},
   "source": [
    "## XG BOOST REGRESSOR ???"
   ]
  },
  {
   "cell_type": "code",
   "execution_count": 87,
   "metadata": {},
   "outputs": [],
   "source": [
    "model = XGBRegressor(n_estimators=100,\n",
    "                    learning_rate=0.1,\n",
    "                    max_depth=6,\n",
    "                    random_state=42,\n",
    "                    n_jobs=-1,\n",
    "                    early_stopping_rounds=10)"
   ]
  },
  {
   "cell_type": "code",
   "execution_count": 89,
   "metadata": {},
   "outputs": [
    {
     "name": "stdout",
     "output_type": "stream",
     "text": [
      "[0]\tvalidation_0-mae:0.46504\n",
      "[1]\tvalidation_0-mae:0.45986\n",
      "[2]\tvalidation_0-mae:0.45521\n",
      "[3]\tvalidation_0-mae:0.45101\n",
      "[4]\tvalidation_0-mae:0.44724\n",
      "[5]\tvalidation_0-mae:0.44384\n",
      "[6]\tvalidation_0-mae:0.44078\n",
      "[7]\tvalidation_0-mae:0.43803\n",
      "[8]\tvalidation_0-mae:0.43555\n",
      "[9]\tvalidation_0-mae:0.43331\n",
      "[10]\tvalidation_0-mae:0.43131\n",
      "[11]\tvalidation_0-mae:0.42951\n",
      "[12]\tvalidation_0-mae:0.42789\n",
      "[13]\tvalidation_0-mae:0.42642\n",
      "[14]\tvalidation_0-mae:0.42511\n",
      "[15]\tvalidation_0-mae:0.42392\n",
      "[16]\tvalidation_0-mae:0.42285\n",
      "[17]\tvalidation_0-mae:0.42189\n",
      "[18]\tvalidation_0-mae:0.42103\n",
      "[19]\tvalidation_0-mae:0.42026\n",
      "[20]\tvalidation_0-mae:0.41956\n",
      "[21]\tvalidation_0-mae:0.41894\n",
      "[22]\tvalidation_0-mae:0.41837\n",
      "[23]\tvalidation_0-mae:0.41787\n",
      "[24]\tvalidation_0-mae:0.41741\n",
      "[25]\tvalidation_0-mae:0.41700\n",
      "[26]\tvalidation_0-mae:0.41662\n",
      "[27]\tvalidation_0-mae:0.41629\n",
      "[28]\tvalidation_0-mae:0.41599\n",
      "[29]\tvalidation_0-mae:0.41572\n",
      "[30]\tvalidation_0-mae:0.41547\n",
      "[31]\tvalidation_0-mae:0.41525\n",
      "[32]\tvalidation_0-mae:0.41505\n",
      "[33]\tvalidation_0-mae:0.41488\n",
      "[34]\tvalidation_0-mae:0.41472\n"
     ]
    },
    {
     "name": "stdout",
     "output_type": "stream",
     "text": [
      "[35]\tvalidation_0-mae:0.41457\n",
      "[36]\tvalidation_0-mae:0.41444\n",
      "[37]\tvalidation_0-mae:0.41433\n",
      "[38]\tvalidation_0-mae:0.41422\n",
      "[39]\tvalidation_0-mae:0.41413\n",
      "[40]\tvalidation_0-mae:0.41404\n",
      "[41]\tvalidation_0-mae:0.41396\n",
      "[42]\tvalidation_0-mae:0.41389\n",
      "[43]\tvalidation_0-mae:0.41383\n",
      "[44]\tvalidation_0-mae:0.41377\n",
      "[45]\tvalidation_0-mae:0.41372\n",
      "[46]\tvalidation_0-mae:0.41368\n",
      "[47]\tvalidation_0-mae:0.41364\n",
      "[48]\tvalidation_0-mae:0.41360\n",
      "[49]\tvalidation_0-mae:0.41357\n",
      "[50]\tvalidation_0-mae:0.41354\n",
      "[51]\tvalidation_0-mae:0.41351\n",
      "[52]\tvalidation_0-mae:0.41348\n",
      "[53]\tvalidation_0-mae:0.41346\n",
      "[54]\tvalidation_0-mae:0.41344\n",
      "[55]\tvalidation_0-mae:0.41342\n",
      "[56]\tvalidation_0-mae:0.41341\n",
      "[57]\tvalidation_0-mae:0.41339\n",
      "[58]\tvalidation_0-mae:0.41338\n",
      "[59]\tvalidation_0-mae:0.41337\n",
      "[60]\tvalidation_0-mae:0.41336\n",
      "[61]\tvalidation_0-mae:0.41335\n",
      "[62]\tvalidation_0-mae:0.41334\n",
      "[63]\tvalidation_0-mae:0.41333\n",
      "[64]\tvalidation_0-mae:0.41332\n",
      "[65]\tvalidation_0-mae:0.41332\n",
      "[66]\tvalidation_0-mae:0.41331\n",
      "[67]\tvalidation_0-mae:0.41331\n",
      "[68]\tvalidation_0-mae:0.41330\n",
      "[69]\tvalidation_0-mae:0.41330\n",
      "[70]\tvalidation_0-mae:0.41329\n",
      "[71]\tvalidation_0-mae:0.41329\n",
      "[72]\tvalidation_0-mae:0.41329\n",
      "[73]\tvalidation_0-mae:0.41328\n",
      "[74]\tvalidation_0-mae:0.41328\n",
      "[75]\tvalidation_0-mae:0.41328\n",
      "[76]\tvalidation_0-mae:0.41328\n",
      "[77]\tvalidation_0-mae:0.41328\n",
      "[78]\tvalidation_0-mae:0.41327\n",
      "[79]\tvalidation_0-mae:0.41327\n",
      "[80]\tvalidation_0-mae:0.41327\n",
      "[81]\tvalidation_0-mae:0.41327\n",
      "[82]\tvalidation_0-mae:0.41327\n",
      "[83]\tvalidation_0-mae:0.41327\n",
      "[84]\tvalidation_0-mae:0.41327\n",
      "[85]\tvalidation_0-mae:0.41327\n",
      "[86]\tvalidation_0-mae:0.41326\n",
      "[87]\tvalidation_0-mae:0.41326\n",
      "[88]\tvalidation_0-mae:0.41326\n",
      "[89]\tvalidation_0-mae:0.41326\n",
      "[90]\tvalidation_0-mae:0.41326\n",
      "[91]\tvalidation_0-mae:0.41326\n",
      "[92]\tvalidation_0-mae:0.41326\n",
      "[93]\tvalidation_0-mae:0.41326\n",
      "[94]\tvalidation_0-mae:0.41326\n",
      "[95]\tvalidation_0-mae:0.41326\n",
      "[96]\tvalidation_0-mae:0.41326\n",
      "[97]\tvalidation_0-mae:0.41326\n",
      "[98]\tvalidation_0-mae:0.41326\n"
     ]
    },
    {
     "data": {
      "text/html": [
       "<style>#sk-container-id-2 {color: black;background-color: white;}#sk-container-id-2 pre{padding: 0;}#sk-container-id-2 div.sk-toggleable {background-color: white;}#sk-container-id-2 label.sk-toggleable__label {cursor: pointer;display: block;width: 100%;margin-bottom: 0;padding: 0.3em;box-sizing: border-box;text-align: center;}#sk-container-id-2 label.sk-toggleable__label-arrow:before {content: \"▸\";float: left;margin-right: 0.25em;color: #696969;}#sk-container-id-2 label.sk-toggleable__label-arrow:hover:before {color: black;}#sk-container-id-2 div.sk-estimator:hover label.sk-toggleable__label-arrow:before {color: black;}#sk-container-id-2 div.sk-toggleable__content {max-height: 0;max-width: 0;overflow: hidden;text-align: left;background-color: #f0f8ff;}#sk-container-id-2 div.sk-toggleable__content pre {margin: 0.2em;color: black;border-radius: 0.25em;background-color: #f0f8ff;}#sk-container-id-2 input.sk-toggleable__control:checked~div.sk-toggleable__content {max-height: 200px;max-width: 100%;overflow: auto;}#sk-container-id-2 input.sk-toggleable__control:checked~label.sk-toggleable__label-arrow:before {content: \"▾\";}#sk-container-id-2 div.sk-estimator input.sk-toggleable__control:checked~label.sk-toggleable__label {background-color: #d4ebff;}#sk-container-id-2 div.sk-label input.sk-toggleable__control:checked~label.sk-toggleable__label {background-color: #d4ebff;}#sk-container-id-2 input.sk-hidden--visually {border: 0;clip: rect(1px 1px 1px 1px);clip: rect(1px, 1px, 1px, 1px);height: 1px;margin: -1px;overflow: hidden;padding: 0;position: absolute;width: 1px;}#sk-container-id-2 div.sk-estimator {font-family: monospace;background-color: #f0f8ff;border: 1px dotted black;border-radius: 0.25em;box-sizing: border-box;margin-bottom: 0.5em;}#sk-container-id-2 div.sk-estimator:hover {background-color: #d4ebff;}#sk-container-id-2 div.sk-parallel-item::after {content: \"\";width: 100%;border-bottom: 1px solid gray;flex-grow: 1;}#sk-container-id-2 div.sk-label:hover label.sk-toggleable__label {background-color: #d4ebff;}#sk-container-id-2 div.sk-serial::before {content: \"\";position: absolute;border-left: 1px solid gray;box-sizing: border-box;top: 0;bottom: 0;left: 50%;z-index: 0;}#sk-container-id-2 div.sk-serial {display: flex;flex-direction: column;align-items: center;background-color: white;padding-right: 0.2em;padding-left: 0.2em;position: relative;}#sk-container-id-2 div.sk-item {position: relative;z-index: 1;}#sk-container-id-2 div.sk-parallel {display: flex;align-items: stretch;justify-content: center;background-color: white;position: relative;}#sk-container-id-2 div.sk-item::before, #sk-container-id-2 div.sk-parallel-item::before {content: \"\";position: absolute;border-left: 1px solid gray;box-sizing: border-box;top: 0;bottom: 0;left: 50%;z-index: -1;}#sk-container-id-2 div.sk-parallel-item {display: flex;flex-direction: column;z-index: 1;position: relative;background-color: white;}#sk-container-id-2 div.sk-parallel-item:first-child::after {align-self: flex-end;width: 50%;}#sk-container-id-2 div.sk-parallel-item:last-child::after {align-self: flex-start;width: 50%;}#sk-container-id-2 div.sk-parallel-item:only-child::after {width: 0;}#sk-container-id-2 div.sk-dashed-wrapped {border: 1px dashed gray;margin: 0 0.4em 0.5em 0.4em;box-sizing: border-box;padding-bottom: 0.4em;background-color: white;}#sk-container-id-2 div.sk-label label {font-family: monospace;font-weight: bold;display: inline-block;line-height: 1.2em;}#sk-container-id-2 div.sk-label-container {text-align: center;}#sk-container-id-2 div.sk-container {/* jupyter's `normalize.less` sets `[hidden] { display: none; }` but bootstrap.min.css set `[hidden] { display: none !important; }` so we also need the `!important` here to be able to override the default hidden behavior on the sphinx rendered scikit-learn.org. See: https://github.com/scikit-learn/scikit-learn/issues/21755 */display: inline-block !important;position: relative;}#sk-container-id-2 div.sk-text-repr-fallback {display: none;}</style><div id=\"sk-container-id-2\" class=\"sk-top-container\"><div class=\"sk-text-repr-fallback\"><pre>XGBRegressor(base_score=None, booster=None, callbacks=None,\n",
       "             colsample_bylevel=None, colsample_bynode=None,\n",
       "             colsample_bytree=None, device=None, early_stopping_rounds=10,\n",
       "             enable_categorical=False, eval_metric=None, feature_types=None,\n",
       "             gamma=None, grow_policy=None, importance_type=None,\n",
       "             interaction_constraints=None, learning_rate=0.1, max_bin=None,\n",
       "             max_cat_threshold=None, max_cat_to_onehot=None,\n",
       "             max_delta_step=None, max_depth=6, max_leaves=None,\n",
       "             min_child_weight=None, missing=nan, monotone_constraints=None,\n",
       "             multi_strategy=None, n_estimators=100, n_jobs=-1,\n",
       "             num_parallel_tree=None, random_state=42, ...)</pre><b>In a Jupyter environment, please rerun this cell to show the HTML representation or trust the notebook. <br />On GitHub, the HTML representation is unable to render, please try loading this page with nbviewer.org.</b></div><div class=\"sk-container\" hidden><div class=\"sk-item\"><div class=\"sk-estimator sk-toggleable\"><input class=\"sk-toggleable__control sk-hidden--visually\" id=\"sk-estimator-id-2\" type=\"checkbox\" checked><label for=\"sk-estimator-id-2\" class=\"sk-toggleable__label sk-toggleable__label-arrow\">XGBRegressor</label><div class=\"sk-toggleable__content\"><pre>XGBRegressor(base_score=None, booster=None, callbacks=None,\n",
       "             colsample_bylevel=None, colsample_bynode=None,\n",
       "             colsample_bytree=None, device=None, early_stopping_rounds=10,\n",
       "             enable_categorical=False, eval_metric=None, feature_types=None,\n",
       "             gamma=None, grow_policy=None, importance_type=None,\n",
       "             interaction_constraints=None, learning_rate=0.1, max_bin=None,\n",
       "             max_cat_threshold=None, max_cat_to_onehot=None,\n",
       "             max_delta_step=None, max_depth=6, max_leaves=None,\n",
       "             min_child_weight=None, missing=nan, monotone_constraints=None,\n",
       "             multi_strategy=None, n_estimators=100, n_jobs=-1,\n",
       "             num_parallel_tree=None, random_state=42, ...)</pre></div></div></div></div></div>"
      ],
      "text/plain": [
       "XGBRegressor(base_score=None, booster=None, callbacks=None,\n",
       "             colsample_bylevel=None, colsample_bynode=None,\n",
       "             colsample_bytree=None, device=None, early_stopping_rounds=10,\n",
       "             enable_categorical=False, eval_metric=None, feature_types=None,\n",
       "             gamma=None, grow_policy=None, importance_type=None,\n",
       "             interaction_constraints=None, learning_rate=0.1, max_bin=None,\n",
       "             max_cat_threshold=None, max_cat_to_onehot=None,\n",
       "             max_delta_step=None, max_depth=6, max_leaves=None,\n",
       "             min_child_weight=None, missing=nan, monotone_constraints=None,\n",
       "             multi_strategy=None, n_estimators=100, n_jobs=-1,\n",
       "             num_parallel_tree=None, random_state=42, ...)"
      ]
     },
     "execution_count": 89,
     "metadata": {},
     "output_type": "execute_result"
    }
   ],
   "source": [
    "# Ajusto do modelo\n",
    "\n",
    "model.fit(\n",
    "    x_train, \n",
    "    y_train, \n",
    "    eval_metric=\"mae\",\n",
    "    eval_set=[(x_test, y_test)],\n",
    "    verbose=True)"
   ]
  },
  {
   "cell_type": "code",
   "execution_count": 91,
   "metadata": {},
   "outputs": [],
   "source": [
    "# Realizada a predição nos dados de teste\n",
    "\n",
    "y_pred = model.predict(x_test)\n",
    "predictions = [round(value) for value in y_pred]"
   ]
  },
  {
   "cell_type": "code",
   "execution_count": 92,
   "metadata": {},
   "outputs": [
    {
     "name": "stdout",
     "output_type": "stream",
     "text": [
      "Accuracy: 70.06%\n"
     ]
    }
   ],
   "source": [
    "# Avalia a predição\n",
    "\n",
    "accuracy = accuracy_score(y_test, predictions)\n",
    "print(\"Accuracy: %.2f%%\" % (accuracy * 100.0))"
   ]
  },
  {
   "cell_type": "markdown",
   "metadata": {},
   "source": [
    "## Estudando rede neural e fazendo testes com a biblioteca keras"
   ]
  },
  {
   "cell_type": "code",
   "execution_count": 93,
   "metadata": {},
   "outputs": [
    {
     "name": "stdout",
     "output_type": "stream",
     "text": [
      "Epoch 1/100\n",
      "130/130 [==============================] - 3s 7ms/step - loss: -5.9170 - accuracy: 0.6144 - val_loss: -19.2274 - val_accuracy: 0.6350\n",
      "Epoch 2/100\n",
      "130/130 [==============================] - 1s 5ms/step - loss: -74.8263 - accuracy: 0.6144 - val_loss: -157.9781 - val_accuracy: 0.6350\n",
      "Epoch 3/100\n",
      "130/130 [==============================] - 1s 5ms/step - loss: -344.4841 - accuracy: 0.6144 - val_loss: -561.9332 - val_accuracy: 0.6350\n",
      "Epoch 4/100\n",
      "130/130 [==============================] - 1s 8ms/step - loss: -965.8349 - accuracy: 0.6144 - val_loss: -1360.3280 - val_accuracy: 0.6350\n",
      "Epoch 5/100\n",
      "130/130 [==============================] - 1s 6ms/step - loss: -2038.5515 - accuracy: 0.6144 - val_loss: -2640.6008 - val_accuracy: 0.6350\n",
      "Epoch 6/100\n",
      "130/130 [==============================] - 1s 6ms/step - loss: -3697.0405 - accuracy: 0.6144 - val_loss: -4513.0762 - val_accuracy: 0.6350\n",
      "Epoch 7/100\n",
      "130/130 [==============================] - 1s 7ms/step - loss: -6006.0161 - accuracy: 0.6144 - val_loss: -7038.3052 - val_accuracy: 0.6350\n",
      "Epoch 8/100\n",
      "130/130 [==============================] - 1s 7ms/step - loss: -8987.7783 - accuracy: 0.6144 - val_loss: -10266.1377 - val_accuracy: 0.6350\n",
      "Epoch 9/100\n",
      "130/130 [==============================] - 1s 6ms/step - loss: -12832.9395 - accuracy: 0.6144 - val_loss: -14330.2393 - val_accuracy: 0.6350\n",
      "Epoch 10/100\n",
      "130/130 [==============================] - 2s 12ms/step - loss: -17526.2480 - accuracy: 0.6144 - val_loss: -19233.4004 - val_accuracy: 0.6350\n",
      "Epoch 11/100\n",
      "130/130 [==============================] - 1s 7ms/step - loss: -23147.0566 - accuracy: 0.6144 - val_loss: -25054.6992 - val_accuracy: 0.6350\n",
      "Epoch 12/100\n",
      "130/130 [==============================] - 1s 7ms/step - loss: -29658.6035 - accuracy: 0.6144 - val_loss: -31682.3555 - val_accuracy: 0.6350\n",
      "Epoch 13/100\n",
      "130/130 [==============================] - 1s 8ms/step - loss: -37171.3164 - accuracy: 0.6144 - val_loss: -39396.0625 - val_accuracy: 0.6350\n",
      "Epoch 14/100\n",
      "130/130 [==============================] - 1s 7ms/step - loss: -45739.8672 - accuracy: 0.6144 - val_loss: -48065.7773 - val_accuracy: 0.6350\n",
      "Epoch 15/100\n",
      "130/130 [==============================] - 1s 12ms/step - loss: -55555.5859 - accuracy: 0.6144 - val_loss: -57915.0898 - val_accuracy: 0.6350\n",
      "Epoch 16/100\n",
      "130/130 [==============================] - 1s 7ms/step - loss: -66216.9453 - accuracy: 0.6144 - val_loss: -68562.5703 - val_accuracy: 0.6350\n",
      "Epoch 17/100\n",
      "130/130 [==============================] - 1s 7ms/step - loss: -78004.0156 - accuracy: 0.6144 - val_loss: -80349.7578 - val_accuracy: 0.6350\n",
      "Epoch 18/100\n",
      "130/130 [==============================] - 1s 8ms/step - loss: -90982.6484 - accuracy: 0.6144 - val_loss: -93323.1719 - val_accuracy: 0.6350\n",
      "Epoch 19/100\n",
      "130/130 [==============================] - 1s 8ms/step - loss: -105161.0469 - accuracy: 0.6144 - val_loss: -107348.3516 - val_accuracy: 0.6350\n",
      "Epoch 20/100\n",
      "130/130 [==============================] - 2s 13ms/step - loss: -120493.6250 - accuracy: 0.6144 - val_loss: -122628.1250 - val_accuracy: 0.6350\n",
      "Epoch 21/100\n",
      "130/130 [==============================] - 1s 9ms/step - loss: -137270.1250 - accuracy: 0.6144 - val_loss: -139076.6406 - val_accuracy: 0.6350\n",
      "Epoch 22/100\n",
      "130/130 [==============================] - 1s 10ms/step - loss: -155375.1562 - accuracy: 0.6144 - val_loss: -156991.2188 - val_accuracy: 0.6350\n",
      "Epoch 23/100\n",
      "130/130 [==============================] - 1s 7ms/step - loss: -174695.5000 - accuracy: 0.6144 - val_loss: -176022.0625 - val_accuracy: 0.6350\n",
      "Epoch 24/100\n",
      "130/130 [==============================] - 1s 9ms/step - loss: -195028.7188 - accuracy: 0.6144 - val_loss: -195906.9062 - val_accuracy: 0.6350\n",
      "Epoch 25/100\n",
      "130/130 [==============================] - 1s 9ms/step - loss: -217013.9688 - accuracy: 0.6144 - val_loss: -217472.2031 - val_accuracy: 0.6350\n",
      "Epoch 26/100\n",
      "130/130 [==============================] - 1s 9ms/step - loss: -240265.0625 - accuracy: 0.6144 - val_loss: -240071.6875 - val_accuracy: 0.6350\n",
      "Epoch 27/100\n",
      "130/130 [==============================] - 1s 7ms/step - loss: -264721.8750 - accuracy: 0.6144 - val_loss: -263951.0312 - val_accuracy: 0.6350\n",
      "Epoch 28/100\n",
      "130/130 [==============================] - 1s 7ms/step - loss: -290299.5938 - accuracy: 0.6144 - val_loss: -288986.2500 - val_accuracy: 0.6350\n",
      "Epoch 29/100\n",
      "130/130 [==============================] - 1s 11ms/step - loss: -316832.9062 - accuracy: 0.6144 - val_loss: -314996.4375 - val_accuracy: 0.6350\n",
      "Epoch 30/100\n",
      "130/130 [==============================] - 1s 7ms/step - loss: -344788.0625 - accuracy: 0.6144 - val_loss: -342280.5312 - val_accuracy: 0.6350\n",
      "Epoch 31/100\n",
      "130/130 [==============================] - 1s 9ms/step - loss: -374615.0938 - accuracy: 0.6144 - val_loss: -371241.0312 - val_accuracy: 0.6350\n",
      "Epoch 32/100\n",
      "130/130 [==============================] - 1s 9ms/step - loss: -405478.3750 - accuracy: 0.6144 - val_loss: -401370.8750 - val_accuracy: 0.6350\n",
      "Epoch 33/100\n",
      "130/130 [==============================] - 2s 12ms/step - loss: -438231.4375 - accuracy: 0.6144 - val_loss: -433376.1875 - val_accuracy: 0.6350\n",
      "Epoch 34/100\n",
      "130/130 [==============================] - 1s 8ms/step - loss: -471953.4688 - accuracy: 0.6144 - val_loss: -466170.1562 - val_accuracy: 0.6350\n",
      "Epoch 35/100\n",
      "130/130 [==============================] - 1s 8ms/step - loss: -507891.6562 - accuracy: 0.6144 - val_loss: -500767.6250 - val_accuracy: 0.6350\n",
      "Epoch 36/100\n",
      "130/130 [==============================] - 1s 7ms/step - loss: -544446.9375 - accuracy: 0.6144 - val_loss: -536543.4375 - val_accuracy: 0.6350\n",
      "Epoch 37/100\n",
      "130/130 [==============================] - 1s 9ms/step - loss: -583096.9375 - accuracy: 0.6144 - val_loss: -573905.4375 - val_accuracy: 0.6350\n",
      "Epoch 38/100\n",
      "130/130 [==============================] - 1s 10ms/step - loss: -623320.7500 - accuracy: 0.6144 - val_loss: -613052.3125 - val_accuracy: 0.6350\n",
      "Epoch 39/100\n",
      "130/130 [==============================] - 1s 8ms/step - loss: -664450.3750 - accuracy: 0.6144 - val_loss: -652646.2500 - val_accuracy: 0.6350\n",
      "Epoch 40/100\n",
      "130/130 [==============================] - 1s 7ms/step - loss: -707587.6875 - accuracy: 0.6144 - val_loss: -694783.3750 - val_accuracy: 0.6350\n",
      "Epoch 41/100\n",
      "130/130 [==============================] - 1s 7ms/step - loss: -752625.8125 - accuracy: 0.6144 - val_loss: -738184.6875 - val_accuracy: 0.6350\n",
      "Epoch 42/100\n",
      "130/130 [==============================] - 1s 11ms/step - loss: -798308.8125 - accuracy: 0.6144 - val_loss: -782629.8750 - val_accuracy: 0.6350\n",
      "Epoch 43/100\n",
      "130/130 [==============================] - 1s 8ms/step - loss: -845644.5625 - accuracy: 0.6144 - val_loss: -828418.6875 - val_accuracy: 0.6350\n",
      "Epoch 44/100\n",
      "130/130 [==============================] - 1s 9ms/step - loss: -895236.3125 - accuracy: 0.6144 - val_loss: -876569.6875 - val_accuracy: 0.6350\n",
      "Epoch 45/100\n",
      "130/130 [==============================] - 1s 8ms/step - loss: -945968.1875 - accuracy: 0.6144 - val_loss: -925411.8125 - val_accuracy: 0.6350\n",
      "Epoch 46/100\n",
      "130/130 [==============================] - 2s 12ms/step - loss: -998327.2500 - accuracy: 0.6144 - val_loss: -976012.2500 - val_accuracy: 0.6350\n",
      "Epoch 47/100\n",
      "130/130 [==============================] - 1s 8ms/step - loss: -1053071.0000 - accuracy: 0.6144 - val_loss: -1028998.4375 - val_accuracy: 0.6350\n",
      "Epoch 48/100\n",
      "130/130 [==============================] - 1s 9ms/step - loss: -1109654.0000 - accuracy: 0.6144 - val_loss: -1083762.8750 - val_accuracy: 0.6350\n",
      "Epoch 49/100\n",
      "130/130 [==============================] - 1s 9ms/step - loss: -1167932.2500 - accuracy: 0.6144 - val_loss: -1139986.6250 - val_accuracy: 0.6350\n",
      "Epoch 50/100\n",
      "130/130 [==============================] - 2s 14ms/step - loss: -1227073.2500 - accuracy: 0.6144 - val_loss: -1197221.5000 - val_accuracy: 0.6350\n",
      "Epoch 51/100\n",
      "130/130 [==============================] - 1s 9ms/step - loss: -1288744.3750 - accuracy: 0.6144 - val_loss: -1256671.8750 - val_accuracy: 0.6350\n",
      "Epoch 52/100\n",
      "130/130 [==============================] - 1s 11ms/step - loss: -1351495.8750 - accuracy: 0.6144 - val_loss: -1317301.1250 - val_accuracy: 0.6350\n",
      "Epoch 53/100\n",
      "130/130 [==============================] - 1s 11ms/step - loss: -1416119.8750 - accuracy: 0.6144 - val_loss: -1379911.1250 - val_accuracy: 0.6350\n",
      "Epoch 54/100\n",
      "130/130 [==============================] - 2s 13ms/step - loss: -1482626.3750 - accuracy: 0.6144 - val_loss: -1444222.8750 - val_accuracy: 0.6350\n",
      "Epoch 55/100\n",
      "130/130 [==============================] - 1s 11ms/step - loss: -1550962.3750 - accuracy: 0.6144 - val_loss: -1510048.8750 - val_accuracy: 0.6350\n",
      "Epoch 56/100\n",
      "130/130 [==============================] - 1s 7ms/step - loss: -1622192.0000 - accuracy: 0.6144 - val_loss: -1578807.1250 - val_accuracy: 0.6350\n",
      "Epoch 57/100\n",
      "130/130 [==============================] - 1s 8ms/step - loss: -1694160.1250 - accuracy: 0.6144 - val_loss: -1647650.6250 - val_accuracy: 0.6350\n",
      "Epoch 58/100\n",
      "130/130 [==============================] - 2s 14ms/step - loss: -1768770.6250 - accuracy: 0.6144 - val_loss: -1720251.6250 - val_accuracy: 0.6350\n",
      "Epoch 59/100\n",
      "130/130 [==============================] - 1s 11ms/step - loss: -1844453.8750 - accuracy: 0.6144 - val_loss: -1793139.0000 - val_accuracy: 0.6350\n",
      "Epoch 60/100\n",
      "130/130 [==============================] - 1s 9ms/step - loss: -1922056.6250 - accuracy: 0.6144 - val_loss: -1867703.3750 - val_accuracy: 0.6350\n",
      "Epoch 61/100\n",
      "130/130 [==============================] - 2s 13ms/step - loss: -2002701.8750 - accuracy: 0.6144 - val_loss: -1945251.3750 - val_accuracy: 0.6350\n",
      "Epoch 62/100\n",
      "130/130 [==============================] - 1s 8ms/step - loss: -2084241.2500 - accuracy: 0.6144 - val_loss: -2023562.8750 - val_accuracy: 0.6350\n",
      "Epoch 63/100\n",
      "130/130 [==============================] - 1s 8ms/step - loss: -2168938.7500 - accuracy: 0.6144 - val_loss: -2105797.7500 - val_accuracy: 0.6350\n",
      "Epoch 64/100\n",
      "130/130 [==============================] - 1s 8ms/step - loss: -2256019.2500 - accuracy: 0.6144 - val_loss: -2188940.2500 - val_accuracy: 0.6350\n",
      "Epoch 65/100\n",
      "130/130 [==============================] - 2s 12ms/step - loss: -2343989.0000 - accuracy: 0.6144 - val_loss: -2273523.5000 - val_accuracy: 0.6350\n",
      "Epoch 66/100\n",
      "130/130 [==============================] - 1s 9ms/step - loss: -2434203.0000 - accuracy: 0.6144 - val_loss: -2360675.7500 - val_accuracy: 0.6350\n",
      "Epoch 67/100\n",
      "130/130 [==============================] - 1s 8ms/step - loss: -2525200.5000 - accuracy: 0.6144 - val_loss: -2448169.0000 - val_accuracy: 0.6350\n",
      "Epoch 68/100\n",
      "130/130 [==============================] - 1s 6ms/step - loss: -2618264.7500 - accuracy: 0.6144 - val_loss: -2537655.5000 - val_accuracy: 0.6350\n",
      "Epoch 69/100\n",
      "130/130 [==============================] - 1s 11ms/step - loss: -2714568.0000 - accuracy: 0.6144 - val_loss: -2630556.2500 - val_accuracy: 0.6350\n",
      "Epoch 70/100\n",
      "130/130 [==============================] - 1s 8ms/step - loss: -2811975.7500 - accuracy: 0.6144 - val_loss: -2724877.2500 - val_accuracy: 0.6350\n",
      "Epoch 71/100\n",
      "130/130 [==============================] - 1s 8ms/step - loss: -2913752.0000 - accuracy: 0.6144 - val_loss: -2822002.0000 - val_accuracy: 0.6350\n",
      "Epoch 72/100\n",
      "130/130 [==============================] - 1s 9ms/step - loss: -3015306.5000 - accuracy: 0.6144 - val_loss: -2920192.2500 - val_accuracy: 0.6350\n",
      "Epoch 73/100\n",
      "130/130 [==============================] - 2s 14ms/step - loss: -3119023.0000 - accuracy: 0.6144 - val_loss: -3019873.0000 - val_accuracy: 0.6350\n",
      "Epoch 74/100\n",
      "130/130 [==============================] - 1s 8ms/step - loss: -3224928.0000 - accuracy: 0.6144 - val_loss: -3122297.7500 - val_accuracy: 0.6350\n",
      "Epoch 75/100\n",
      "130/130 [==============================] - 1s 11ms/step - loss: -3334794.7500 - accuracy: 0.6144 - val_loss: -3227341.5000 - val_accuracy: 0.6350\n",
      "Epoch 76/100\n",
      "130/130 [==============================] - 1s 9ms/step - loss: -3445392.0000 - accuracy: 0.6144 - val_loss: -3333081.5000 - val_accuracy: 0.6350\n",
      "Epoch 77/100\n",
      "130/130 [==============================] - 2s 12ms/step - loss: -3558210.5000 - accuracy: 0.6144 - val_loss: -3441997.0000 - val_accuracy: 0.6350\n",
      "Epoch 78/100\n",
      "130/130 [==============================] - 1s 9ms/step - loss: -3673538.7500 - accuracy: 0.6144 - val_loss: -3552818.0000 - val_accuracy: 0.6350\n",
      "Epoch 79/100\n",
      "130/130 [==============================] - 1s 7ms/step - loss: -3792521.5000 - accuracy: 0.6144 - val_loss: -3667655.2500 - val_accuracy: 0.6350\n",
      "Epoch 80/100\n",
      "130/130 [==============================] - 1s 9ms/step - loss: -3912490.5000 - accuracy: 0.6144 - val_loss: -3782789.2500 - val_accuracy: 0.6350\n",
      "Epoch 81/100\n",
      "130/130 [==============================] - 2s 13ms/step - loss: -4034658.5000 - accuracy: 0.6144 - val_loss: -3900252.5000 - val_accuracy: 0.6350\n",
      "Epoch 82/100\n",
      "130/130 [==============================] - 1s 8ms/step - loss: -4159238.5000 - accuracy: 0.6144 - val_loss: -4019808.5000 - val_accuracy: 0.6350\n",
      "Epoch 83/100\n",
      "130/130 [==============================] - 1s 9ms/step - loss: -4286249.0000 - accuracy: 0.6144 - val_loss: -4141727.5000 - val_accuracy: 0.6350\n",
      "Epoch 84/100\n",
      "130/130 [==============================] - 1s 9ms/step - loss: -4415668.5000 - accuracy: 0.6144 - val_loss: -4266143.0000 - val_accuracy: 0.6350\n",
      "Epoch 85/100\n",
      "130/130 [==============================] - 1s 11ms/step - loss: -4547595.5000 - accuracy: 0.6144 - val_loss: -4392706.0000 - val_accuracy: 0.6350\n",
      "Epoch 86/100\n",
      "130/130 [==============================] - 1s 7ms/step - loss: -4681974.0000 - accuracy: 0.6144 - val_loss: -4522039.0000 - val_accuracy: 0.6350\n",
      "Epoch 87/100\n",
      "130/130 [==============================] - 1s 7ms/step - loss: -4818940.5000 - accuracy: 0.6144 - val_loss: -4653427.5000 - val_accuracy: 0.6350\n",
      "Epoch 88/100\n",
      "130/130 [==============================] - 1s 9ms/step - loss: -4958308.5000 - accuracy: 0.6144 - val_loss: -4787745.5000 - val_accuracy: 0.6350\n",
      "Epoch 89/100\n",
      "130/130 [==============================] - 2s 15ms/step - loss: -5100229.5000 - accuracy: 0.6144 - val_loss: -4923676.0000 - val_accuracy: 0.6350\n",
      "Epoch 90/100\n",
      "130/130 [==============================] - 1s 8ms/step - loss: -5244560.5000 - accuracy: 0.6144 - val_loss: -5062944.0000 - val_accuracy: 0.6350\n",
      "Epoch 91/100\n",
      "130/130 [==============================] - 1s 8ms/step - loss: -5393740.5000 - accuracy: 0.6144 - val_loss: -5205116.0000 - val_accuracy: 0.6350\n",
      "Epoch 92/100\n",
      "130/130 [==============================] - 1s 8ms/step - loss: -5542865.0000 - accuracy: 0.6144 - val_loss: -5349045.0000 - val_accuracy: 0.6350\n",
      "Epoch 93/100\n",
      "130/130 [==============================] - 2s 14ms/step - loss: -5697794.5000 - accuracy: 0.6144 - val_loss: -5496136.0000 - val_accuracy: 0.6350\n",
      "Epoch 94/100\n",
      "130/130 [==============================] - 2s 12ms/step - loss: -5851260.0000 - accuracy: 0.6144 - val_loss: -5645235.5000 - val_accuracy: 0.6350\n",
      "Epoch 95/100\n",
      "130/130 [==============================] - 1s 8ms/step - loss: -6009659.0000 - accuracy: 0.6144 - val_loss: -5797375.5000 - val_accuracy: 0.6350\n",
      "Epoch 96/100\n",
      "130/130 [==============================] - 1s 10ms/step - loss: -6170730.5000 - accuracy: 0.6144 - val_loss: -5951717.5000 - val_accuracy: 0.6350\n",
      "Epoch 97/100\n",
      "130/130 [==============================] - 1s 8ms/step - loss: -6332032.5000 - accuracy: 0.6144 - val_loss: -6105589.5000 - val_accuracy: 0.6350\n",
      "Epoch 98/100\n",
      "130/130 [==============================] - 1s 9ms/step - loss: -6499062.0000 - accuracy: 0.6144 - val_loss: -6265379.5000 - val_accuracy: 0.6350\n",
      "Epoch 99/100\n",
      "130/130 [==============================] - 1s 11ms/step - loss: -6665146.5000 - accuracy: 0.6144 - val_loss: -6424988.0000 - val_accuracy: 0.6350\n",
      "Epoch 100/100\n",
      "130/130 [==============================] - 2s 14ms/step - loss: -6836291.0000 - accuracy: 0.6144 - val_loss: -6588914.0000 - val_accuracy: 0.6350\n"
     ]
    },
    {
     "data": {
      "text/plain": [
       "<keras.src.callbacks.History at 0x2bcaa3d81f0>"
      ]
     },
     "execution_count": 93,
     "metadata": {},
     "output_type": "execute_result"
    }
   ],
   "source": [
    "import pandas as pd\n",
    "import numpy as np\n",
    "from sklearn.model_selection import train_test_split\n",
    "from tensorflow.keras.models import Sequential\n",
    "from tensorflow.keras.layers import Dense\n",
    "from sklearn.preprocessing import LabelEncoder\n",
    "\n",
    "label_encoder = LabelEncoder()\n",
    "df['Sexo'] = label_encoder.fit_transform(df['Sexo'])\n",
    "df['Cor ou raça'] = label_encoder.fit_transform(df['Cor ou raça'])\n",
    "\n",
    "# Defina seus recursos (X) e rótulo alvo (y)\n",
    "x = df[['Algum médico ou profissional de saúde (como psiquiatra ou psicólogo) já lhe deu o diagnóstico de outra doença mental, como transtorno de ansiedade, síndrome do pânico, esquizofrenia, transtorno bipolar, psicose ou TOC (Transtorno Obsessivo Compulsivo) etc? ', 'Sexo', 'Cor ou raça']]\n",
    "y = df['Diagnóstico de TOC (Transtorno obsessivo compulsivo) ' ]\n",
    "\n",
    "# Divida os dados em conjuntos de treinamento e teste\n",
    "X_train, X_test, y_train, y_test = train_test_split(X, y, test_size=0.3, random_state=0)\n",
    "\n",
    "# Crie o modelo da rede neural\n",
    "model = Sequential()\n",
    "model.add(Dense(64, activation='relu', input_dim=3))  # 3 neurônios na camada de entrada\n",
    "model.add(Dense(32, activation='relu'))  # Camada oculta com 32 neurônios\n",
    "model.add(Dense(1, activation='sigmoid'))  # Camada de saída com 1 neurônio (para classificação binária)\n",
    "\n",
    "# Compile o modelo\n",
    "model.compile(optimizer='adam', loss='binary_crossentropy', metrics=['accuracy'])\n",
    "\n",
    "# Treine o modelo\n",
    "model.fit(X_train, y_train, epochs=100, batch_size=32, validation_data=(X_test, y_test))\n"
   ]
  }
 ],
 "metadata": {
  "kernelspec": {
   "display_name": "Python 3",
   "language": "python",
   "name": "python3"
  },
  "language_info": {
   "codemirror_mode": {
    "name": "ipython",
    "version": 3
   },
   "file_extension": ".py",
   "mimetype": "text/x-python",
   "name": "python",
   "nbconvert_exporter": "python",
   "pygments_lexer": "ipython3",
   "version": "3.10.9"
  },
  "orig_nbformat": 4
 },
 "nbformat": 4,
 "nbformat_minor": 2
}
